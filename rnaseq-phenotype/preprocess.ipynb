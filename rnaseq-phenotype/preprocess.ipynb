{
 "cells": [
  {
   "cell_type": "markdown",
   "id": "ec353cf8",
   "metadata": {
    "deletable": false,
    "editable": false,
    "run_control": {
     "frozen": true
    }
   },
   "source": [
    "### Correlating datasets\n",
    "\n",
    "- L1000: contains gene expression profiles of perturbed cell lines\n",
    "    - cell lines\n",
    "    - compounds\n",
    "- CRTPv2: contains growth rate information of perturbed cell lines\n",
    "    - cell lines\n",
    "    - compounds\n",
    "- L1000 and CRTPv2 use the same BRD ids for compounds\n",
    "- CRTPv2 uses CCLE ids to identify cell lines\n",
    "- L1000 uses Cellosaurus ids to identify cell lines\n",
    "- `depmap/ccle_cell_lines.csv` links to two types of cell line identifiers\n"
   ]
  },
  {
   "cell_type": "code",
   "execution_count": null,
   "id": "a90f4367",
   "metadata": {},
   "outputs": [],
   "source": []
  }
 ],
 "metadata": {
  "kernelspec": {
   "display_name": "Python 3 (ipykernel)",
   "language": "python",
   "name": "python3"
  },
  "language_info": {
   "codemirror_mode": {
    "name": "ipython",
    "version": 3
   },
   "file_extension": ".py",
   "mimetype": "text/x-python",
   "name": "python",
   "nbconvert_exporter": "python",
   "pygments_lexer": "ipython3",
   "version": "3.9.15"
  }
 },
 "nbformat": 4,
 "nbformat_minor": 5
}
