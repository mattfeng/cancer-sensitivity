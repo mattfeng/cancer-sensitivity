{
 "cells": [
  {
   "cell_type": "markdown",
   "id": "477cb417",
   "metadata": {
    "deletable": false,
    "editable": false,
    "run_control": {
     "frozen": true
    }
   },
   "source": [
    "# Exploring the GDSC dataset"
   ]
  },
  {
   "cell_type": "markdown",
   "id": "e08cf8e4",
   "metadata": {
    "deletable": false,
    "editable": false,
    "run_control": {
     "frozen": true
    }
   },
   "source": [
    "## Dataset notes\n",
    "\n",
    "- response\n",
    "  - number of cell lines: 969\n",
    "  - number of drugs: 295\n",
    "- gene expression\n",
    "  - 17737 genes measured\n",
    "    - 17419 with gene symbol\n",
    "    - 318 without gene symbol\n",
    "- drug annotations\n",
    "  - 608 with identifiable name"
   ]
  },
  {
   "cell_type": "markdown",
   "id": "6e6ab54d",
   "metadata": {
    "deletable": false,
    "editable": false,
    "run_control": {
     "frozen": true
    }
   },
   "source": [
    "## Imports and constants"
   ]
  },
  {
   "cell_type": "code",
   "execution_count": 154,
   "id": "9c2c89af",
   "metadata": {},
   "outputs": [],
   "source": [
    "from rdkit import Chem\n",
    "from rdkit.Chem import AllChem, Draw\n",
    "\n",
    "import pandas as pd\n",
    "import re\n",
    "import math\n",
    "import json"
   ]
  },
  {
   "cell_type": "code",
   "execution_count": 121,
   "id": "b15caa50",
   "metadata": {},
   "outputs": [],
   "source": [
    "datadir = \"/Volumes/OXYTOCIN/datasets/gdsc\"\n",
    "response_fname = \"GDSC2_fitted_dose_response_24Jul22.xlsx\" # drug response data\n",
    "expr_fname = \"Cell_line_RMA_proc_basalExp.txt\" # gene expression data\n",
    "cmpds_fname = \"Drug_list Jan 20 2023.csv\" # compound metadata\n",
    "pubchem_fname = \"gdsc2_drug_pubchem_info.csv\""
   ]
  },
  {
   "cell_type": "markdown",
   "id": "97b23565",
   "metadata": {
    "deletable": false,
    "editable": false,
    "run_control": {
     "frozen": true
    }
   },
   "source": [
    "## Data exploration"
   ]
  },
  {
   "cell_type": "markdown",
   "id": "385e89da",
   "metadata": {
    "deletable": false,
    "editable": false,
    "run_control": {
     "frozen": true
    }
   },
   "source": [
    "### Drug response data"
   ]
  },
  {
   "cell_type": "code",
   "execution_count": 17,
   "id": "0478751e",
   "metadata": {},
   "outputs": [],
   "source": [
    "response = pd.read_excel(f\"{datadir}/{response_fname}\")"
   ]
  },
  {
   "cell_type": "code",
   "execution_count": 171,
   "id": "996b24f9",
   "metadata": {},
   "outputs": [
    {
     "data": {
      "text/html": [
       "<div>\n",
       "<style scoped>\n",
       "    .dataframe tbody tr th:only-of-type {\n",
       "        vertical-align: middle;\n",
       "    }\n",
       "\n",
       "    .dataframe tbody tr th {\n",
       "        vertical-align: top;\n",
       "    }\n",
       "\n",
       "    .dataframe thead th {\n",
       "        text-align: right;\n",
       "    }\n",
       "</style>\n",
       "<table border=\"1\" class=\"dataframe\">\n",
       "  <thead>\n",
       "    <tr style=\"text-align: right;\">\n",
       "      <th></th>\n",
       "      <th>DATASET</th>\n",
       "      <th>NLME_RESULT_ID</th>\n",
       "      <th>NLME_CURVE_ID</th>\n",
       "      <th>COSMIC_ID</th>\n",
       "      <th>CELL_LINE_NAME</th>\n",
       "      <th>SANGER_MODEL_ID</th>\n",
       "      <th>TCGA_DESC</th>\n",
       "      <th>DRUG_ID</th>\n",
       "      <th>DRUG_NAME</th>\n",
       "      <th>PUTATIVE_TARGET</th>\n",
       "      <th>PATHWAY_NAME</th>\n",
       "      <th>COMPANY_ID</th>\n",
       "      <th>WEBRELEASE</th>\n",
       "      <th>MIN_CONC</th>\n",
       "      <th>MAX_CONC</th>\n",
       "      <th>LN_IC50</th>\n",
       "      <th>AUC</th>\n",
       "      <th>RMSE</th>\n",
       "      <th>Z_SCORE</th>\n",
       "    </tr>\n",
       "  </thead>\n",
       "  <tbody>\n",
       "    <tr>\n",
       "      <th>0</th>\n",
       "      <td>GDSC2</td>\n",
       "      <td>401</td>\n",
       "      <td>18945558</td>\n",
       "      <td>683667</td>\n",
       "      <td>PFSK-1</td>\n",
       "      <td>SIDM01132</td>\n",
       "      <td>MB</td>\n",
       "      <td>1003</td>\n",
       "      <td>Camptothecin</td>\n",
       "      <td>TOP1</td>\n",
       "      <td>DNA replication</td>\n",
       "      <td>1046</td>\n",
       "      <td>Y</td>\n",
       "      <td>0.000100</td>\n",
       "      <td>0.1</td>\n",
       "      <td>-1.462148</td>\n",
       "      <td>0.930105</td>\n",
       "      <td>0.088999</td>\n",
       "      <td>0.432482</td>\n",
       "    </tr>\n",
       "    <tr>\n",
       "      <th>1</th>\n",
       "      <td>GDSC2</td>\n",
       "      <td>401</td>\n",
       "      <td>18945796</td>\n",
       "      <td>684052</td>\n",
       "      <td>A673</td>\n",
       "      <td>SIDM00848</td>\n",
       "      <td>UNCLASSIFIED</td>\n",
       "      <td>1003</td>\n",
       "      <td>Camptothecin</td>\n",
       "      <td>TOP1</td>\n",
       "      <td>DNA replication</td>\n",
       "      <td>1046</td>\n",
       "      <td>Y</td>\n",
       "      <td>0.000100</td>\n",
       "      <td>0.1</td>\n",
       "      <td>-4.869447</td>\n",
       "      <td>0.614932</td>\n",
       "      <td>0.111423</td>\n",
       "      <td>-1.420322</td>\n",
       "    </tr>\n",
       "    <tr>\n",
       "      <th>2</th>\n",
       "      <td>GDSC2</td>\n",
       "      <td>401</td>\n",
       "      <td>18946078</td>\n",
       "      <td>684057</td>\n",
       "      <td>ES5</td>\n",
       "      <td>SIDM00263</td>\n",
       "      <td>UNCLASSIFIED</td>\n",
       "      <td>1003</td>\n",
       "      <td>Camptothecin</td>\n",
       "      <td>TOP1</td>\n",
       "      <td>DNA replication</td>\n",
       "      <td>1046</td>\n",
       "      <td>Y</td>\n",
       "      <td>0.000100</td>\n",
       "      <td>0.1</td>\n",
       "      <td>-3.360684</td>\n",
       "      <td>0.790953</td>\n",
       "      <td>0.142754</td>\n",
       "      <td>-0.599894</td>\n",
       "    </tr>\n",
       "    <tr>\n",
       "      <th>3</th>\n",
       "      <td>GDSC2</td>\n",
       "      <td>401</td>\n",
       "      <td>18946335</td>\n",
       "      <td>684059</td>\n",
       "      <td>ES7</td>\n",
       "      <td>SIDM00269</td>\n",
       "      <td>UNCLASSIFIED</td>\n",
       "      <td>1003</td>\n",
       "      <td>Camptothecin</td>\n",
       "      <td>TOP1</td>\n",
       "      <td>DNA replication</td>\n",
       "      <td>1046</td>\n",
       "      <td>Y</td>\n",
       "      <td>0.000100</td>\n",
       "      <td>0.1</td>\n",
       "      <td>-5.045014</td>\n",
       "      <td>0.592624</td>\n",
       "      <td>0.135642</td>\n",
       "      <td>-1.515791</td>\n",
       "    </tr>\n",
       "    <tr>\n",
       "      <th>4</th>\n",
       "      <td>GDSC2</td>\n",
       "      <td>401</td>\n",
       "      <td>18946617</td>\n",
       "      <td>684062</td>\n",
       "      <td>EW-11</td>\n",
       "      <td>SIDM00203</td>\n",
       "      <td>UNCLASSIFIED</td>\n",
       "      <td>1003</td>\n",
       "      <td>Camptothecin</td>\n",
       "      <td>TOP1</td>\n",
       "      <td>DNA replication</td>\n",
       "      <td>1046</td>\n",
       "      <td>Y</td>\n",
       "      <td>0.000100</td>\n",
       "      <td>0.1</td>\n",
       "      <td>-3.741620</td>\n",
       "      <td>0.733992</td>\n",
       "      <td>0.128066</td>\n",
       "      <td>-0.807038</td>\n",
       "    </tr>\n",
       "    <tr>\n",
       "      <th>...</th>\n",
       "      <td>...</td>\n",
       "      <td>...</td>\n",
       "      <td>...</td>\n",
       "      <td>...</td>\n",
       "      <td>...</td>\n",
       "      <td>...</td>\n",
       "      <td>...</td>\n",
       "      <td>...</td>\n",
       "      <td>...</td>\n",
       "      <td>...</td>\n",
       "      <td>...</td>\n",
       "      <td>...</td>\n",
       "      <td>...</td>\n",
       "      <td>...</td>\n",
       "      <td>...</td>\n",
       "      <td>...</td>\n",
       "      <td>...</td>\n",
       "      <td>...</td>\n",
       "      <td>...</td>\n",
       "    </tr>\n",
       "    <tr>\n",
       "      <th>242031</th>\n",
       "      <td>GDSC2</td>\n",
       "      <td>401</td>\n",
       "      <td>19187490</td>\n",
       "      <td>1659928</td>\n",
       "      <td>SNU-175</td>\n",
       "      <td>SIDM00216</td>\n",
       "      <td>COREAD</td>\n",
       "      <td>2499</td>\n",
       "      <td>N-acetyl cysteine</td>\n",
       "      <td>Metabolism</td>\n",
       "      <td>Metabolism</td>\n",
       "      <td>1101</td>\n",
       "      <td>Y</td>\n",
       "      <td>2.001054</td>\n",
       "      <td>2000.0</td>\n",
       "      <td>10.134495</td>\n",
       "      <td>0.976798</td>\n",
       "      <td>0.074441</td>\n",
       "      <td>0.159946</td>\n",
       "    </tr>\n",
       "    <tr>\n",
       "      <th>242032</th>\n",
       "      <td>GDSC2</td>\n",
       "      <td>401</td>\n",
       "      <td>19187943</td>\n",
       "      <td>1660034</td>\n",
       "      <td>SNU-407</td>\n",
       "      <td>SIDM00214</td>\n",
       "      <td>COREAD</td>\n",
       "      <td>2499</td>\n",
       "      <td>N-acetyl cysteine</td>\n",
       "      <td>Metabolism</td>\n",
       "      <td>Metabolism</td>\n",
       "      <td>1101</td>\n",
       "      <td>Y</td>\n",
       "      <td>2.001054</td>\n",
       "      <td>2000.0</td>\n",
       "      <td>8.575555</td>\n",
       "      <td>0.913182</td>\n",
       "      <td>0.057743</td>\n",
       "      <td>-1.626059</td>\n",
       "    </tr>\n",
       "    <tr>\n",
       "      <th>242033</th>\n",
       "      <td>GDSC2</td>\n",
       "      <td>401</td>\n",
       "      <td>19188201</td>\n",
       "      <td>1660035</td>\n",
       "      <td>SNU-61</td>\n",
       "      <td>SIDM00194</td>\n",
       "      <td>COREAD</td>\n",
       "      <td>2499</td>\n",
       "      <td>N-acetyl cysteine</td>\n",
       "      <td>Metabolism</td>\n",
       "      <td>Metabolism</td>\n",
       "      <td>1101</td>\n",
       "      <td>Y</td>\n",
       "      <td>2.001054</td>\n",
       "      <td>2000.0</td>\n",
       "      <td>10.520666</td>\n",
       "      <td>0.974889</td>\n",
       "      <td>0.058094</td>\n",
       "      <td>0.602364</td>\n",
       "    </tr>\n",
       "    <tr>\n",
       "      <th>242034</th>\n",
       "      <td>GDSC2</td>\n",
       "      <td>401</td>\n",
       "      <td>19188741</td>\n",
       "      <td>1674021</td>\n",
       "      <td>SNU-C5</td>\n",
       "      <td>SIDM00498</td>\n",
       "      <td>COREAD</td>\n",
       "      <td>2499</td>\n",
       "      <td>N-acetyl cysteine</td>\n",
       "      <td>Metabolism</td>\n",
       "      <td>Metabolism</td>\n",
       "      <td>1101</td>\n",
       "      <td>Y</td>\n",
       "      <td>2.001054</td>\n",
       "      <td>2000.0</td>\n",
       "      <td>10.701430</td>\n",
       "      <td>0.970009</td>\n",
       "      <td>0.100980</td>\n",
       "      <td>0.809457</td>\n",
       "    </tr>\n",
       "    <tr>\n",
       "      <th>242035</th>\n",
       "      <td>GDSC2</td>\n",
       "      <td>401</td>\n",
       "      <td>19189023</td>\n",
       "      <td>1789883</td>\n",
       "      <td>DiFi</td>\n",
       "      <td>SIDM00049</td>\n",
       "      <td>COREAD</td>\n",
       "      <td>2499</td>\n",
       "      <td>N-acetyl cysteine</td>\n",
       "      <td>Metabolism</td>\n",
       "      <td>Metabolism</td>\n",
       "      <td>1101</td>\n",
       "      <td>Y</td>\n",
       "      <td>2.001054</td>\n",
       "      <td>2000.0</td>\n",
       "      <td>10.038769</td>\n",
       "      <td>0.966966</td>\n",
       "      <td>0.089022</td>\n",
       "      <td>0.050277</td>\n",
       "    </tr>\n",
       "  </tbody>\n",
       "</table>\n",
       "<p>242036 rows × 19 columns</p>\n",
       "</div>"
      ],
      "text/plain": [
       "       DATASET  NLME_RESULT_ID  NLME_CURVE_ID  COSMIC_ID CELL_LINE_NAME  \\\n",
       "0        GDSC2             401       18945558     683667         PFSK-1   \n",
       "1        GDSC2             401       18945796     684052           A673   \n",
       "2        GDSC2             401       18946078     684057            ES5   \n",
       "3        GDSC2             401       18946335     684059            ES7   \n",
       "4        GDSC2             401       18946617     684062          EW-11   \n",
       "...        ...             ...            ...        ...            ...   \n",
       "242031   GDSC2             401       19187490    1659928        SNU-175   \n",
       "242032   GDSC2             401       19187943    1660034        SNU-407   \n",
       "242033   GDSC2             401       19188201    1660035         SNU-61   \n",
       "242034   GDSC2             401       19188741    1674021         SNU-C5   \n",
       "242035   GDSC2             401       19189023    1789883           DiFi   \n",
       "\n",
       "       SANGER_MODEL_ID     TCGA_DESC  DRUG_ID          DRUG_NAME  \\\n",
       "0            SIDM01132            MB     1003       Camptothecin   \n",
       "1            SIDM00848  UNCLASSIFIED     1003       Camptothecin   \n",
       "2            SIDM00263  UNCLASSIFIED     1003       Camptothecin   \n",
       "3            SIDM00269  UNCLASSIFIED     1003       Camptothecin   \n",
       "4            SIDM00203  UNCLASSIFIED     1003       Camptothecin   \n",
       "...                ...           ...      ...                ...   \n",
       "242031       SIDM00216        COREAD     2499  N-acetyl cysteine   \n",
       "242032       SIDM00214        COREAD     2499  N-acetyl cysteine   \n",
       "242033       SIDM00194        COREAD     2499  N-acetyl cysteine   \n",
       "242034       SIDM00498        COREAD     2499  N-acetyl cysteine   \n",
       "242035       SIDM00049        COREAD     2499  N-acetyl cysteine   \n",
       "\n",
       "       PUTATIVE_TARGET     PATHWAY_NAME  COMPANY_ID WEBRELEASE  MIN_CONC  \\\n",
       "0                 TOP1  DNA replication        1046          Y  0.000100   \n",
       "1                 TOP1  DNA replication        1046          Y  0.000100   \n",
       "2                 TOP1  DNA replication        1046          Y  0.000100   \n",
       "3                 TOP1  DNA replication        1046          Y  0.000100   \n",
       "4                 TOP1  DNA replication        1046          Y  0.000100   \n",
       "...                ...              ...         ...        ...       ...   \n",
       "242031      Metabolism       Metabolism        1101          Y  2.001054   \n",
       "242032      Metabolism       Metabolism        1101          Y  2.001054   \n",
       "242033      Metabolism       Metabolism        1101          Y  2.001054   \n",
       "242034      Metabolism       Metabolism        1101          Y  2.001054   \n",
       "242035      Metabolism       Metabolism        1101          Y  2.001054   \n",
       "\n",
       "        MAX_CONC    LN_IC50       AUC      RMSE   Z_SCORE  \n",
       "0            0.1  -1.462148  0.930105  0.088999  0.432482  \n",
       "1            0.1  -4.869447  0.614932  0.111423 -1.420322  \n",
       "2            0.1  -3.360684  0.790953  0.142754 -0.599894  \n",
       "3            0.1  -5.045014  0.592624  0.135642 -1.515791  \n",
       "4            0.1  -3.741620  0.733992  0.128066 -0.807038  \n",
       "...          ...        ...       ...       ...       ...  \n",
       "242031    2000.0  10.134495  0.976798  0.074441  0.159946  \n",
       "242032    2000.0   8.575555  0.913182  0.057743 -1.626059  \n",
       "242033    2000.0  10.520666  0.974889  0.058094  0.602364  \n",
       "242034    2000.0  10.701430  0.970009  0.100980  0.809457  \n",
       "242035    2000.0  10.038769  0.966966  0.089022  0.050277  \n",
       "\n",
       "[242036 rows x 19 columns]"
      ]
     },
     "execution_count": 171,
     "metadata": {},
     "output_type": "execute_result"
    }
   ],
   "source": [
    "response"
   ]
  },
  {
   "cell_type": "code",
   "execution_count": 168,
   "id": "fc607f19",
   "metadata": {},
   "outputs": [
    {
     "data": {
      "text/plain": [
       "Index(['DATASET', 'NLME_RESULT_ID', 'NLME_CURVE_ID', 'COSMIC_ID',\n",
       "       'CELL_LINE_NAME', 'SANGER_MODEL_ID', 'TCGA_DESC', 'DRUG_ID',\n",
       "       'DRUG_NAME', 'PUTATIVE_TARGET', 'PATHWAY_NAME', 'COMPANY_ID',\n",
       "       'WEBRELEASE', 'MIN_CONC', 'MAX_CONC', 'LN_IC50', 'AUC', 'RMSE',\n",
       "       'Z_SCORE'],\n",
       "      dtype='object')"
      ]
     },
     "execution_count": 168,
     "metadata": {},
     "output_type": "execute_result"
    }
   ],
   "source": [
    "response.columns"
   ]
  },
  {
   "cell_type": "code",
   "execution_count": 18,
   "id": "0e05e706",
   "metadata": {},
   "outputs": [
    {
     "name": "stdout",
     "output_type": "stream",
     "text": [
      "num cell lines: 969\n",
      "num drugs: 295\n"
     ]
    }
   ],
   "source": [
    "# basic info about response dataset\n",
    "print(\"num cell lines:\", len(response[\"CELL_LINE_NAME\"].unique()))\n",
    "print(\"num drugs:\", len(response[\"DRUG_ID\"].unique()))"
   ]
  },
  {
   "cell_type": "markdown",
   "id": "3dd7bcf3",
   "metadata": {
    "deletable": false,
    "editable": false,
    "run_control": {
     "frozen": true
    }
   },
   "source": [
    "### Expression data"
   ]
  },
  {
   "cell_type": "code",
   "execution_count": null,
   "id": "2ec51ff1",
   "metadata": {},
   "outputs": [],
   "source": [
    "set(response[\"COSMIC_ID\"])"
   ]
  },
  {
   "cell_type": "code",
   "execution_count": 165,
   "id": "c1517b30",
   "metadata": {},
   "outputs": [],
   "source": [
    "gexpr = pd.read_csv(f\"{datadir}/{expr_fname}\", sep=\"\\t\")"
   ]
  },
  {
   "cell_type": "code",
   "execution_count": 166,
   "id": "7d8a5b36",
   "metadata": {},
   "outputs": [
    {
     "data": {
      "text/plain": [
       "1020"
      ]
     },
     "execution_count": 166,
     "metadata": {},
     "output_type": "execute_result"
    }
   ],
   "source": [
    "len(gexpr.columns)"
   ]
  },
  {
   "cell_type": "code",
   "execution_count": 170,
   "id": "1801e338",
   "metadata": {},
   "outputs": [
    {
     "name": "stdout",
     "output_type": "stream",
     "text": [
      "['GENE_SYMBOLS', 'GENE_title', 'DATA.906826', 'DATA.687983', 'DATA.910927', 'DATA.1240138', 'DATA.1240139', 'DATA.906792', 'DATA.910688', 'DATA.1240135', 'DATA.1290812', 'DATA.907045', 'DATA.906861', 'DATA.906830', 'DATA.909750', 'DATA.1240137', 'DATA.753552', 'DATA.907065', 'DATA.925338', 'DATA.1290809', 'DATA.949158', 'DATA.924110', 'DATA.1240134', 'DATA.907172', 'DATA.687452', 'DATA.905947', 'DATA.1298134', 'DATA.907058', 'DATA.1290814', 'DATA.905975', 'DATA.905939', 'DATA.910704', 'DATA.908460', 'DATA.909745', 'DATA.907173', 'DATA.905936', 'DATA.1303896', 'DATA.907320', 'DATA.688058', 'DATA.905974', 'DATA.907060', 'DATA.908470', 'DATA.908465', 'DATA.906746', 'DATA.909703', 'DATA.724855', 'DATA.724831', 'DATA.906813', 'DATA.946359', 'DATA.909707', 'DATA.910399', 'DATA.687816', 'DATA.907794', 'DATA.909698', 'DATA.910903', 'DATA.910952', 'DATA.909784', 'DATA.724873', 'DATA.684055', 'DATA.906815', 'DATA.906834', 'DATA.906798', 'DATA.910079', 'DATA.908462', 'DATA.1290798', 'DATA.905976', 'DATA.906844', 'DATA.1240212', 'DATA.1298151', 'DATA.906817', 'DATA.1503367', 'DATA.753541', 'DATA.1290730', 'DATA.905977', 'DATA.909255', 'DATA.1240131', 'DATA.1240141', 'DATA.1290810', 'DATA.753618', 'DATA.687829', 'DATA.949155', 'DATA.1290813', 'DATA.909747', 'DATA.1290808', 'DATA.906797', 'DATA.910695', 'DATA.1240132', 'DATA.908150', 'DATA.907169', 'DATA.722045', 'DATA.909723', 'DATA.905961', 'DATA.910926', 'DATA.1240136', 'DATA.909696', 'DATA.1240210', 'DATA.910544', 'DATA.925347', 'DATA.1240206', 'DATA.724868', 'DATA.724866', 'DATA.687995', 'DATA.910548', 'DATA.910549', 'DATA.905991', 'DATA.910401', 'DATA.1524416', 'DATA.971774', 'DATA.687455', 'DATA.925348', 'DATA.1240207', 'DATA.753599', 'DATA.1240184', 'DATA.687798', 'DATA.910947', 'DATA.909248', 'DATA.1240198', 'DATA.1330995', 'DATA.910861', 'DATA.909704', 'DATA.1240201', 'DATA.909260', 'DATA.684681', 'DATA.908475', 'DATA.908463', 'DATA.905978', 'DATA.1298362', 'DATA.1240199', 'DATA.1524418', 'DATA.1240209', 'DATA.909699', 'DATA.909706', 'DATA.753608', 'DATA.683667', 'DATA.908471', 'DATA.688010', 'DATA.910899', 'DATA.1298534', 'DATA.909249', 'DATA.1240200', 'DATA.909263', 'DATA.910931', 'DATA.909700', 'DATA.910545', 'DATA.1240202', 'DATA.1240208', 'DATA.687997', 'DATA.908472', 'DATA.910900', 'DATA.1298539', 'DATA.1240196', 'DATA.910546', 'DATA.909697', 'DATA.930083', 'DATA.909251', 'DATA.1298529', 'DATA.1330987', 'DATA.687799', 'DATA.722058', 'DATA.753600', 'DATA.1524419', 'DATA.1240197', 'DATA.1330991', 'DATA.1298538', 'DATA.909701', 'DATA.909252', 'DATA.1240204', 'DATA.946360', 'DATA.1298349', 'DATA.1298348', 'DATA.909256', 'DATA.905969', 'DATA.1240185', 'DATA.909264', 'DATA.971773', 'DATA.905964', 'DATA.925346', 'DATA.1240205', 'DATA.909257', 'DATA.908476', 'DATA.908467', 'DATA.1298350', 'DATA.1298359', 'DATA.909250', 'DATA.688007', 'DATA.753575', 'DATA.909975', 'DATA.907279', 'DATA.946361', 'DATA.907796', 'DATA.753588', 'DATA.1298226', 'DATA.906868', 'DATA.906873', 'DATA.1240174', 'DATA.1330955', 'DATA.924187', 'DATA.907300', 'DATA.907276', 'DATA.907277', 'DATA.753586', 'DATA.1330935', 'DATA.910694', 'DATA.907323', 'DATA.910932', 'DATA.907291', 'DATA.910948', 'DATA.908127', 'DATA.907319', 'DATA.753574', 'DATA.1327774', 'DATA.1298219', 'DATA.907786', 'DATA.924239', 'DATA.1240169', 'DATA.906863', 'DATA.907299', 'DATA.906871', 'DATA.925343', 'DATA.908126', 'DATA.907321', 'DATA.907311', 'DATA.907284', 'DATA.1330931', 'DATA.949170', 'DATA.753592', 'DATA.1240168', 'DATA.1290806', 'DATA.906999', 'DATA.906872', 'DATA.908129', 'DATA.1330944', 'DATA.907313', 'DATA.1298168', 'DATA.753570', 'DATA.713899', 'DATA.907795', 'DATA.1240170', 'DATA.906865', 'DATA.906877', 'DATA.908147', 'DATA.908128', 'DATA.753576', 'DATA.1330933', 'DATA.1298169', 'DATA.753578', 'DATA.724863', 'DATA.998189', 'DATA.907783', 'DATA.1240129', 'DATA.1240130', 'DATA.1290807', 'DATA.908146', 'DATA.687514', 'DATA.753573', 'DATA.907271', 'DATA.924188', 'DATA.753582', 'DATA.713878', 'DATA.907792', 'DATA.906869', 'DATA.906875', 'DATA.907298', 'DATA.908148', 'DATA.908124', 'DATA.907317', 'DATA.1327775', 'DATA.924186', 'DATA.907787', 'DATA.753589', 'DATA.917486', 'DATA.907789', 'DATA.687568', 'DATA.907041', 'DATA.924250', 'DATA.908149', 'DATA.1330943', 'DATA.1240179', 'DATA.753596', 'DATA.1240173', 'DATA.687588', 'DATA.1299078', 'DATA.909905', 'DATA.753621', 'DATA.753623', 'DATA.930297', 'DATA.909709', 'DATA.1240216', 'DATA.717431', 'DATA.753594', 'DATA.971777', 'DATA.1330947', 'DATA.909777', 'DATA.1299081', 'DATA.909904', 'DATA.753622', 'DATA.946353', 'DATA.1331032', 'DATA.909738', 'DATA.687457', 'DATA.688087', 'DATA.908156', 'DATA.753595', 'DATA.905958', 'DATA.909778', 'DATA.1240226', 'DATA.909907', 'DATA.1240222', 'DATA.909770', 'DATA.905982', 'DATA.724879', 'DATA.909719', 'DATA.1240178', 'DATA.908131', 'DATA.1298232', 'DATA.1299075', 'DATA.909785', 'DATA.687592', 'DATA.946356', 'DATA.909771', 'DATA.909739', 'DATA.1247871', 'DATA.905959', 'DATA.910906', 'DATA.908141', 'DATA.908136', 'DATA.753615', 'DATA.1331048', 'DATA.1299080', 'DATA.905981', 'DATA.946354', 'DATA.1299064', 'DATA.1331038', 'DATA.909725', 'DATA.909755', 'DATA.724812', 'DATA.908151', 'DATA.905946', 'DATA.724838', 'DATA.909780', 'DATA.1331049', 'DATA.713885', 'DATA.753614', 'DATA.1240223', 'DATA.905956', 'DATA.910907', 'DATA.905962', 'DATA.905945', 'DATA.908139', 'DATA.925339', 'DATA.905983', 'DATA.688121', 'DATA.1331050', 'DATA.909708', 'DATA.735784', 'DATA.909773', 'DATA.909716', 'DATA.909756', 'DATA.909736', 'DATA.687586', 'DATA.908138', 'DATA.907799', 'DATA.687590', 'DATA.909779', 'DATA.1299076', 'DATA.1299051', 'DATA.946355', 'DATA.687459', 'DATA.1331033', 'DATA.905954', 'DATA.909742', 'DATA.909761', 'DATA.1287381', 'DATA.910784', 'DATA.924104', 'DATA.906801', 'DATA.753538', 'DATA.906820', 'DATA.910852', 'DATA.753547', 'DATA.906807', 'DATA.906839', 'DATA.906853', 'DATA.910924', 'DATA.905950', 'DATA.906763', 'DATA.906696', 'DATA.905963', 'DATA.906818', 'DATA.1290765', 'DATA.910692', 'DATA.946368', 'DATA.907295', 'DATA.906855', 'DATA.687561', 'DATA.906793', 'DATA.910933', 'DATA.753616', 'DATA.905951', 'DATA.910943', 'DATA.910689', 'DATA.910915', 'DATA.906808', 'DATA.1290797', 'DATA.910936', 'DATA.949156', 'DATA.906800', 'DATA.910697', 'DATA.910781', 'DATA.753534', 'DATA.949093', 'DATA.946382', 'DATA.910569', 'DATA.906824', 'DATA.906805', 'DATA.946373', 'DATA.905935', 'DATA.1240127', 'DATA.910922', 'DATA.910934', 'DATA.906765', 'DATA.910698', 'DATA.910710', 'DATA.724859', 'DATA.687505', 'DATA.906814', 'DATA.687780', 'DATA.906833', 'DATA.906843', 'DATA.1240128', 'DATA.906795', 'DATA.910925', 'DATA.910687', 'DATA.753535', 'DATA.910700', 'DATA.753624', 'DATA.910703', 'DATA.906821', 'DATA.924105', 'DATA.906837', 'DATA.906832', 'DATA.949167', 'DATA.910921', 'DATA.905949', 'DATA.910705', 'DATA.1240122', 'DATA.910850', 'DATA.910853', 'DATA.924107', 'DATA.906812', 'DATA.753548', 'DATA.906838', 'DATA.906851', 'DATA.684062', 'DATA.687563', 'DATA.684052', 'DATA.910919', 'DATA.906829', 'DATA.910941', 'DATA.906827', 'DATA.1290773', 'DATA.687596', 'DATA.906841', 'DATA.906852', 'DATA.949163', 'DATA.908125', 'DATA.905984', 'DATA.909743', 'DATA.753572', 'DATA.909976', 'DATA.909720', 'DATA.907290', 'DATA.907050', 'DATA.909754', 'DATA.905973', 'DATA.907176', 'DATA.1240157', 'DATA.905960', 'DATA.724872', 'DATA.684072', 'DATA.1240166', 'DATA.1298215', 'DATA.1298141', 'DATA.907049', 'DATA.1240146', 'DATA.909757', 'DATA.753559', 'DATA.907270', 'DATA.1240158', 'DATA.908121', 'DATA.909713', 'DATA.1240219', 'DATA.909730', 'DATA.907282', 'DATA.907062', 'DATA.907059', 'DATA.907064', 'DATA.924247', 'DATA.1327771', 'DATA.1327769', 'DATA.907171', 'DATA.908122', 'DATA.910946', 'DATA.909728', 'DATA.909732', 'DATA.1298216', 'DATA.907066', 'DATA.753558', 'DATA.724869', 'DATA.909758', 'DATA.1327766', 'DATA.907391', 'DATA.910779', 'DATA.713880', 'DATA.905965', 'DATA.909729', 'DATA.930298', 'DATA.753569', 'DATA.907042', 'DATA.907287', 'DATA.753612', 'DATA.907268', 'DATA.1240159', 'DATA.1240155', 'DATA.910911', 'DATA.1299070', 'DATA.1240215', 'DATA.909721', 'DATA.907274', 'DATA.907286', 'DATA.949153', 'DATA.907057', 'DATA.909731', 'DATA.753566', 'DATA.1240160', 'DATA.1240153', 'DATA.1299050', 'DATA.724878', 'DATA.1299059', 'DATA.909722', 'DATA.909726', 'DATA.907073', 'DATA.905972', 'DATA.1240154', 'DATA.753564', 'DATA.907175', 'DATA.1240161', 'DATA.905968', 'DATA.753610', 'DATA.910209', 'DATA.909724', 'DATA.753563', 'DATA.1298222', 'DATA.687509', 'DATA.1290922', 'DATA.753565', 'DATA.907170', 'DATA.1327765', 'DATA.1240162', 'DATA.1327761', 'DATA.906862', 'DATA.753554', 'DATA.1290722', 'DATA.924108', 'DATA.753546', 'DATA.946370', 'DATA.949165', 'DATA.905938', 'DATA.749714', 'DATA.907053', 'DATA.1290906', 'DATA.1303900', 'DATA.684059', 'DATA.1295741', 'DATA.906804', 'DATA.906836', 'DATA.906848', 'DATA.949166', 'DATA.907061', 'DATA.907072', 'DATA.1298136', 'DATA.1240149', 'DATA.905971', 'DATA.911905', 'DATA.1287706', 'DATA.753531', 'DATA.1290769', 'DATA.946369', 'DATA.906849', 'DATA.905970', 'DATA.907285', 'DATA.907051', 'DATA.907055', 'DATA.907043', 'DATA.1290907', 'DATA.949164', 'DATA.910851', 'DATA.753532', 'DATA.1240123', 'DATA.946367', 'DATA.684057', 'DATA.906856', 'DATA.924111', 'DATA.1240145', 'DATA.924151', 'DATA.1290908', 'DATA.1240143', 'DATA.906847', 'DATA.905948', 'DATA.753533', 'DATA.905952', 'DATA.753549', 'DATA.949161', 'DATA.1503370', 'DATA.907069', 'DATA.749711', 'DATA.749715', 'DATA.1240151', 'DATA.749709', 'DATA.753556', 'DATA.906794', 'DATA.753536', 'DATA.910691', 'DATA.753551', 'DATA.949160', 'DATA.906854', 'DATA.905937', 'DATA.1247873', 'DATA.749716', 'DATA.907056', 'DATA.907067', 'DATA.753555', 'DATA.906791', 'DATA.910916', 'DATA.910568', 'DATA.1297446', 'DATA.949168', 'DATA.1503369', 'DATA.907048', 'DATA.1240140', 'DATA.907046', 'DATA.1240142', 'DATA.907289', 'DATA.906846', 'DATA.910944', 'DATA.1240121', 'DATA.949088', 'DATA.906842', 'DATA.1503366', 'DATA.1240152', 'DATA.907047', 'DATA.1240150', 'DATA.1290905', 'DATA.907071', 'DATA.907068', 'DATA.1240183', 'DATA.687820', 'DATA.687815', 'DATA.753605', 'DATA.925341', 'DATA.908444', 'DATA.908455', 'DATA.949174', 'DATA.908449', 'DATA.1330985', 'DATA.908473', 'DATA.909749', 'DATA.687800', 'DATA.687821', 'DATA.688011', 'DATA.905967', 'DATA.1331055', 'DATA.908446', 'DATA.1330982', 'DATA.925342', 'DATA.1480371', 'DATA.1330984', 'DATA.1240186', 'DATA.909711', 'DATA.687807', 'DATA.1240187', 'DATA.1240189', 'DATA.722066', 'DATA.1240192', 'DATA.908158', 'DATA.949178', 'DATA.908450', 'DATA.1503363', 'DATA.1330983', 'DATA.909737', 'DATA.908474', 'DATA.688018', 'DATA.688013', 'DATA.724874', 'DATA.1240190', 'DATA.908457', 'DATA.908445', 'DATA.1509074', 'DATA.910849', 'DATA.905990', 'DATA.1503362', 'DATA.905979', 'DATA.910701', 'DATA.687802', 'DATA.1298356', 'DATA.908443', 'DATA.688025', 'DATA.724825', 'DATA.908159', 'DATA.908448', 'DATA.949177', 'DATA.905933', 'DATA.688006', 'DATA.909746', 'DATA.909740', 'DATA.1298352', 'DATA.687812', 'DATA.688022', 'DATA.688026', 'DATA.688027', 'DATA.949171', 'DATA.908451', 'DATA.949175', 'DATA.1298358', 'DATA.909748', 'DATA.909744', 'DATA.1240217', 'DATA.687814', 'DATA.687819', 'DATA.908482', 'DATA.908459', 'DATA.688031', 'DATA.949172', 'DATA.908447', 'DATA.949176', 'DATA.910930', 'DATA.909751', 'DATA.1331035', 'DATA.905986', 'DATA.905942', 'DATA.905944', 'DATA.753607', 'DATA.1240191', 'DATA.908440', 'DATA.908452', 'DATA.908454', 'DATA.910904', 'DATA.924244', 'DATA.909759', 'DATA.909712', 'DATA.910566', 'DATA.1240181', 'DATA.688014', 'DATA.924241', 'DATA.906823', 'DATA.1322213', 'DATA.905955', 'DATA.1479994', 'DATA.905957', 'DATA.713869', 'DATA.1480364', 'DATA.910706', 'DATA.1480374', 'DATA.1322212', 'DATA.1330964', 'DATA.1297449', 'DATA.1330975', 'DATA.907273', 'DATA.1298353', 'DATA.687787', 'DATA.1479991', 'DATA.1298355', 'DATA.1503364', 'DATA.724839', 'DATA.1298357', 'DATA.1240144', 'DATA.1331026', 'DATA.1331025', 'DATA.1290767', 'DATA.1503368', 'DATA.1298150', 'DATA.1330950', 'DATA.1240193', 'DATA.1240125', 'DATA.907791', 'DATA.908483', 'DATA.910942', 'DATA.1303912', 'DATA.909702', 'DATA.1298351', 'DATA.753579', 'DATA.1479993', 'DATA.909774', 'DATA.1331039', 'DATA.909718', 'DATA.1297447', 'DATA.1240124', 'DATA.1480359', 'DATA.949090', 'DATA.11223344', 'DATA.1240182', 'DATA.1298146', 'DATA.749710', 'DATA.908144', 'DATA.1480361', 'DATA.1290724', 'DATA.1298347', 'DATA.687980', 'DATA.1330945', 'DATA.688001', 'DATA.910937', 'DATA.908142', 'DATA.1240147', 'DATA.753581', 'DATA.908123', 'DATA.1331037', 'DATA.1298537', 'DATA.1297439', 'DATA.908132', 'DATA.1297438', 'DATA.924240', 'DATA.1480358', 'DATA.1323913', 'DATA.1479992', 'DATA.998179', 'DATA.1331060', 'DATA.1480360', 'DATA.1290725', 'DATA.1330941', 'DATA.908133', 'DATA.683665', 'DATA.910780', 'DATA.908469', 'DATA.753539', 'DATA.1479995', 'DATA.946358', 'DATA.1503365', 'DATA.1331028', 'DATA.910910', 'DATA.1660035', 'DATA.909715', 'DATA.1295740', 'DATA.907281', 'DATA.906864', 'DATA.909974', 'DATA.1503362.1', 'DATA.925340', 'DATA.924248', 'DATA.1659928', 'DATA.905985', 'DATA.910702', 'DATA.907318', 'DATA.1290795', 'DATA.909262', 'DATA.908461', 'DATA.724870', 'DATA.946357', 'DATA.1659929', 'DATA.910935', 'DATA.906695', 'DATA.907280', 'DATA.906850', 'DATA.1330993', 'DATA.909194', 'DATA.908135', 'DATA.1331040', 'DATA.1659823', 'DATA.1240211', 'DATA.906693', 'DATA.909977', 'DATA.687777', 'DATA.1298531', 'DATA.908481', 'DATA.910920', 'DATA.1674021', 'DATA.688086', 'DATA.1299049', 'DATA.1524414', 'DATA.907275', 'DATA.910567', 'DATA.905934', 'DATA.1330973', 'DATA.1240220', 'DATA.1331036', 'DATA.724828', 'DATA.687562', 'DATA.908119', 'DATA.1298145', 'DATA.753540', 'DATA.1298475', 'DATA.908468', 'DATA.907790', 'DATA.1660036', 'DATA.909727', 'DATA.1331031', 'DATA.1330942', 'DATA.1322224', 'DATA.924106', 'DATA.909253', 'DATA.908441', 'DATA.1660034', 'DATA.753620', 'DATA.906790', 'DATA.907785', 'DATA.949162', 'DATA.1524417', 'DATA.1330983.1', 'DATA.1659818', 'DATA.907272', 'DATA.1298526', 'DATA.949157', 'DATA.906867', 'DATA.753561', 'DATA.1723793', 'DATA.910905', 'DATA.949179', 'DATA.1299052', 'DATA.907278', 'DATA.905940', 'DATA.753604', 'DATA.1298476', 'DATA.907788', 'DATA.687506', 'DATA.907000', 'DATA.1240221', 'DATA.1298218', 'DATA.749712', 'DATA.1723794', 'DATA.1298156', 'DATA.753562', 'DATA.1299061', 'DATA.753585', 'DATA.909735', 'DATA.949173', 'DATA.1240156', 'DATA.907269', 'DATA.1331045', 'DATA.906835', 'DATA.907314', 'DATA.687804', 'DATA.1524415', 'DATA.688023', 'DATA.905980', 'DATA.907322', 'DATA.906831', 'DATA.910554', 'DATA.906870', 'DATA.1240167', 'DATA.1240172', 'DATA.1330948', 'DATA.1290455', 'DATA.749717', 'DATA.930082', 'DATA.724834', 'DATA.946372', 'DATA.924102', 'DATA.1327768', 'DATA.910951', 'DATA.949094', 'DATA.1290768', 'DATA.1290771', 'DATA.906828', 'DATA.909753', 'DATA.1299067', 'DATA.687985', 'DATA.749713', 'DATA.1479988', 'DATA.908152', 'DATA.1330994', 'DATA.1331034', 'DATA.1303897', 'DATA.1298160', 'DATA.1503371', 'DATA.909769', 'DATA.925345', 'DATA.909717', 'DATA.908143', 'DATA.905989', 'DATA.1509073', 'DATA.924100', 'DATA.1327773', 'DATA.753583', 'DATA.753545', 'DATA.1479987', 'DATA.687600', 'DATA.909781', 'DATA.688021', 'DATA.753577', 'DATA.907312', 'DATA.906803', 'DATA.1480362', 'DATA.1298365', 'DATA.1503361', 'DATA.1659817', 'DATA.1322218', 'DATA.1330972', 'DATA.909776', 'DATA.722046', 'DATA.1659819', 'DATA.687448', 'DATA.908130', 'DATA.946377', 'DATA.1298154', 'DATA.924238', 'DATA.1298223', 'DATA.905941', 'DATA.1240218', 'DATA.1299062', 'DATA.909976.1', 'DATA.908458', 'DATA.753584', 'DATA.907044', 'DATA.998184', 'DATA.908145', 'DATA.1659787', 'DATA.1298157', 'DATA.1480372', 'DATA.1298533', 'DATA.930299', 'DATA.905954.1']\n"
     ]
    }
   ],
   "source": [
    "print(list(gexpr.columns))"
   ]
  },
  {
   "cell_type": "code",
   "execution_count": 180,
   "id": "a6927ec0",
   "metadata": {},
   "outputs": [
    {
     "name": "stdout",
     "output_type": "stream",
     "text": [
      "969\n",
      "1014\n",
      "{753536, 688001, 1330944, 1330945, 909700, 1299076, 688007, 907785, 684681, 1659787, 1330955, 1240205, 724879, 1240208, 1327761, 1723793, 1240211, 907284, 1290773, 1723794, 684055, 1240216, 687509, 683665, 1290907, 688022, 925342, 907041, 909730, 998179, 907049, 907050, 909739, 11223344, 1298355, 906803, 907059, 1479991, 1479992, 1479993, 1479994, 1298232, 1240124, 906815, 753599, 908482, 687814, 906823, 906829, 1331026, 909780, 1287381, 1331028, 908119, 1240152, 1331031, 1240156, 910946, 906850, 906853, 910566, 906854, 1298150, 1299049, 1298154, 1299051, 1290771, 906867, 1330943, 1331060, 906873, 1299067, 907391}\n",
      "{930301, 1503373, 688015, 1330960, 908442, 924189, 1240224, 949154, 1330981, 1480367, 687794, 907063, 946363, 1789883, 946366, 908480, 909762, 910918, 906825, 908118, 905943, 908120, 1303901, 1298144, 908134, 1303911, 1298167, 1299069}\n"
     ]
    }
   ],
   "source": [
    "cosmic_ids = set(response[\"COSMIC_ID\"])\n",
    "print(len(cosmic_ids))\n",
    "\n",
    "expr_cell_line_ids = set()\n",
    "for col in list(gexpr.columns):\n",
    "    if col in {\"GENE_SYMBOLS\", \"GENE_title\"}:\n",
    "        continue\n",
    "        \n",
    "    cell_line_id = col.split(\".\")[1]\n",
    "    expr_cell_line_ids.add(int(cell_line_id))\n",
    "    \n",
    "print(len(expr_cell_line_ids))\n",
    "print(expr_cell_line_ids - cosmic_ids)\n",
    "print(cosmic_ids - expr_cell_line_ids) # drug effect but no gene expr data"
   ]
  },
  {
   "cell_type": "code",
   "execution_count": 34,
   "id": "205eda03",
   "metadata": {},
   "outputs": [
    {
     "data": {
      "text/plain": [
       "(17419, 17419, 17737)"
      ]
     },
     "execution_count": 34,
     "metadata": {},
     "output_type": "execute_result"
    }
   ],
   "source": [
    "len(df[\"GENE_SYMBOLS\"].dropna()), len(set(df[\"GENE_SYMBOLS\"].dropna())), len(df[\"GENE_SYMBOLS\"])"
   ]
  },
  {
   "cell_type": "markdown",
   "id": "3ff4e7ae",
   "metadata": {
    "deletable": false,
    "editable": false,
    "run_control": {
     "frozen": true
    }
   },
   "source": [
    "### Drug metadata"
   ]
  },
  {
   "cell_type": "code",
   "execution_count": 118,
   "id": "415c3db5",
   "metadata": {},
   "outputs": [],
   "source": [
    "cmpds = pd.read_csv(f\"{datadir}/{cmpds_fname}\")"
   ]
  },
  {
   "cell_type": "code",
   "execution_count": 119,
   "id": "9d1e12f1",
   "metadata": {},
   "outputs": [
    {
     "data": {
      "text/plain": [
       "Index(['Drug Id', 'Name', 'Synonyms', 'Targets', 'Target pathway', 'PubCHEM',\n",
       "       'Datasets', 'number of cell lines', 'Screening site'],\n",
       "      dtype='object')"
      ]
     },
     "execution_count": 119,
     "metadata": {},
     "output_type": "execute_result"
    }
   ],
   "source": [
    "cmpds.columns"
   ]
  },
  {
   "cell_type": "code",
   "execution_count": 120,
   "id": "b6548bd1",
   "metadata": {},
   "outputs": [
    {
     "name": "stdout",
     "output_type": "stream",
     "text": [
      "186\n"
     ]
    }
   ],
   "source": [
    "# keep compounds with pubchem id\n",
    "cmpds = cmpds[cmpds[\"Datasets\"] == \"GDSC2\"]\n",
    "cmpds = cmpds[cmpds[\"PubCHEM\"].notna()]\n",
    "cmpds = cmpds[cmpds[\"PubCHEM\"] != \"None\"]\n",
    "cmpds = cmpds[cmpds[\"PubCHEM\"] != \"none\"]\n",
    "cmpds = cmpds[cmpds[\"PubCHEM\"] != \"several\"]\n",
    "cmpds[\"PubCHEM\"] = cmpds[\"PubCHEM\"].map(lambda f: f.split(\",\")[0])\n",
    "cmpds = cmpds.sort_values(by=\"PubCHEM\")\n",
    "print(len(cmpds))"
   ]
  },
  {
   "cell_type": "code",
   "execution_count": 130,
   "id": "463f42e1",
   "metadata": {},
   "outputs": [],
   "source": [
    "# read in pubchem additional info\n",
    "pubchem = pd.read_csv(pubchem_fname, header=None, names=[\"pubchem_id\", \"pubchem_json\"])\n",
    "pubchem_dict = {}\n",
    "for _, row in pubchem.iterrows():\n",
    "    pubchem_id = row[\"pubchem_id\"]\n",
    "    pubchem_json = row[\"pubchem_json\"]\n",
    "    pubchem_dict[pubchem_id] = json.loads(pubchem_json)"
   ]
  },
  {
   "cell_type": "code",
   "execution_count": 141,
   "id": "bc2e5b5d",
   "metadata": {
    "scrolled": true
   },
   "outputs": [],
   "source": [
    "# add smiles string\n",
    "cmpds[\"SMILES\"] = cmpds.apply(lambda r: pubchem_dict[int(r.to_dict()[\"PubCHEM\"])][\"canonical_smiles\"], axis=1)"
   ]
  },
  {
   "cell_type": "code",
   "execution_count": 143,
   "id": "15830c17",
   "metadata": {},
   "outputs": [
    {
     "data": {
      "text/html": [
       "<div>\n",
       "<style scoped>\n",
       "    .dataframe tbody tr th:only-of-type {\n",
       "        vertical-align: middle;\n",
       "    }\n",
       "\n",
       "    .dataframe tbody tr th {\n",
       "        vertical-align: top;\n",
       "    }\n",
       "\n",
       "    .dataframe thead th {\n",
       "        text-align: right;\n",
       "    }\n",
       "</style>\n",
       "<table border=\"1\" class=\"dataframe\">\n",
       "  <thead>\n",
       "    <tr style=\"text-align: right;\">\n",
       "      <th></th>\n",
       "      <th>Drug Id</th>\n",
       "      <th>Name</th>\n",
       "      <th>Synonyms</th>\n",
       "      <th>Targets</th>\n",
       "      <th>Target pathway</th>\n",
       "      <th>PubCHEM</th>\n",
       "      <th>Datasets</th>\n",
       "      <th>number of cell lines</th>\n",
       "      <th>Screening site</th>\n",
       "      <th>SMILES</th>\n",
       "    </tr>\n",
       "  </thead>\n",
       "  <tbody>\n",
       "    <tr>\n",
       "      <th>131</th>\n",
       "      <td>1037</td>\n",
       "      <td>BX795</td>\n",
       "      <td>BX-795</td>\n",
       "      <td>TBK1, PDK1 (PDPK1), IKK, AURKB, AURKC</td>\n",
       "      <td>Other, kinases</td>\n",
       "      <td>10077147</td>\n",
       "      <td>GDSC2</td>\n",
       "      <td>225</td>\n",
       "      <td>SANGER</td>\n",
       "      <td>C1CCN(C1)C(=O)NC2=CC=CC(=C2)NC3=NC=C(C(=N3)NCC...</td>\n",
       "    </tr>\n",
       "    <tr>\n",
       "      <th>385</th>\n",
       "      <td>1559</td>\n",
       "      <td>Luminespib</td>\n",
       "      <td>AUY922, VER-52296,NVP-AUY922,  AUY</td>\n",
       "      <td>HSP90</td>\n",
       "      <td>Protein stability and degradation</td>\n",
       "      <td>10096043</td>\n",
       "      <td>GDSC2</td>\n",
       "      <td>964</td>\n",
       "      <td>SANGER</td>\n",
       "      <td>CCNC(=O)C1=C(C(=C2C=C(C(=CC2=O)O)C(C)C)ON1)C3=...</td>\n",
       "    </tr>\n",
       "    <tr>\n",
       "      <th>565</th>\n",
       "      <td>1062</td>\n",
       "      <td>Selumetinib</td>\n",
       "      <td>AZD6244, AZD-6244, ARRY-886</td>\n",
       "      <td>MEK1, MEK2</td>\n",
       "      <td>ERK MAPK signaling</td>\n",
       "      <td>10127622</td>\n",
       "      <td>GDSC2</td>\n",
       "      <td>949</td>\n",
       "      <td>SANGER</td>\n",
       "      <td>CN1C=NC2=C1C=C(C(=C2F)NC3=C(C=C(C=C3)Br)Cl)C(=...</td>\n",
       "    </tr>\n",
       "    <tr>\n",
       "      <th>498</th>\n",
       "      <td>1635</td>\n",
       "      <td>Picolinici-acid</td>\n",
       "      <td>Picolinate</td>\n",
       "      <td>Inflammatory related</td>\n",
       "      <td>Other</td>\n",
       "      <td>1018</td>\n",
       "      <td>GDSC2</td>\n",
       "      <td>893</td>\n",
       "      <td>SANGER</td>\n",
       "      <td>C1=CC=NC(=C1)C(=O)O</td>\n",
       "    </tr>\n",
       "    <tr>\n",
       "      <th>85</th>\n",
       "      <td>1032</td>\n",
       "      <td>Afatinib</td>\n",
       "      <td>BIBW2992, Tovok, Gilotrif</td>\n",
       "      <td>EGFR, ERBB2</td>\n",
       "      <td>EGFR signaling</td>\n",
       "      <td>10184653</td>\n",
       "      <td>GDSC2</td>\n",
       "      <td>966</td>\n",
       "      <td>SANGER</td>\n",
       "      <td>CN(C)CC=CC(=O)NC1=C(C=C2C(=C1)C(=NC=N2)NC3=CC(...</td>\n",
       "    </tr>\n",
       "    <tr>\n",
       "      <th>...</th>\n",
       "      <td>...</td>\n",
       "      <td>...</td>\n",
       "      <td>...</td>\n",
       "      <td>...</td>\n",
       "      <td>...</td>\n",
       "      <td>...</td>\n",
       "      <td>...</td>\n",
       "      <td>...</td>\n",
       "      <td>...</td>\n",
       "      <td>...</td>\n",
       "    </tr>\n",
       "    <tr>\n",
       "      <th>186</th>\n",
       "      <td>1922</td>\n",
       "      <td>Cediranib</td>\n",
       "      <td>AZD2171, AZD 2171, AZD-2171, Recentin</td>\n",
       "      <td>VEGFR, FLT1, FLT2, FLT3, FLT4, KIT, PDGFRB</td>\n",
       "      <td>RTK signaling</td>\n",
       "      <td>9933475</td>\n",
       "      <td>GDSC2</td>\n",
       "      <td>958</td>\n",
       "      <td>SANGER</td>\n",
       "      <td>CC1=CC2=C(N1)C=CC(=C2F)OC3=NC=NC4=CC(=C(C=C43)...</td>\n",
       "    </tr>\n",
       "    <tr>\n",
       "      <th>444</th>\n",
       "      <td>1626</td>\n",
       "      <td>OTX015</td>\n",
       "      <td>Birabresib, OTX-015, MK-8628</td>\n",
       "      <td>BRD2, BRD3, BRD4</td>\n",
       "      <td>Chromatin other</td>\n",
       "      <td>9936746</td>\n",
       "      <td>GDSC2</td>\n",
       "      <td>893</td>\n",
       "      <td>SANGER</td>\n",
       "      <td>CC1=C(SC2=C1C(=NC(C3=NN=C(N32)C)CC(=O)NC4=CC=C...</td>\n",
       "    </tr>\n",
       "    <tr>\n",
       "      <th>221</th>\n",
       "      <td>1069</td>\n",
       "      <td>EHT-1864</td>\n",
       "      <td>EHT 1864</td>\n",
       "      <td>RAC1, RAC2, RAC3</td>\n",
       "      <td>Cytoskeleton</td>\n",
       "      <td>9938202</td>\n",
       "      <td>GDSC2</td>\n",
       "      <td>943</td>\n",
       "      <td>SANGER</td>\n",
       "      <td>C1COCCN1CC2=CC(=O)C(=CO2)OCCCCCSC3=C4C=CC(=CC4...</td>\n",
       "    </tr>\n",
       "    <tr>\n",
       "      <th>295</th>\n",
       "      <td>1023</td>\n",
       "      <td>GW441756</td>\n",
       "      <td>GW 441756</td>\n",
       "      <td>NTRK1</td>\n",
       "      <td>RTK signaling</td>\n",
       "      <td>9943465</td>\n",
       "      <td>GDSC2</td>\n",
       "      <td>953</td>\n",
       "      <td>SANGER</td>\n",
       "      <td>CN1C=C(C2=CC=CC=C21)C=C3C4=C(C=CC=N4)NC3=O</td>\n",
       "    </tr>\n",
       "    <tr>\n",
       "      <th>167</th>\n",
       "      <td>2175</td>\n",
       "      <td>CHIR-99021</td>\n",
       "      <td>CT 99021, CHIR99021, CHIR 99021</td>\n",
       "      <td>GSK3A, GSK3B</td>\n",
       "      <td>WNT signaling</td>\n",
       "      <td>9956119</td>\n",
       "      <td>GDSC2</td>\n",
       "      <td>225</td>\n",
       "      <td>SANGER</td>\n",
       "      <td>CC1=CN=C(N1)C2=CN=C(N=C2C3=C(C=C(C=C3)Cl)Cl)NC...</td>\n",
       "    </tr>\n",
       "  </tbody>\n",
       "</table>\n",
       "<p>186 rows × 10 columns</p>\n",
       "</div>"
      ],
      "text/plain": [
       "     Drug Id             Name                               Synonyms  \\\n",
       "131     1037            BX795                                 BX-795   \n",
       "385     1559       Luminespib     AUY922, VER-52296,NVP-AUY922,  AUY   \n",
       "565     1062      Selumetinib            AZD6244, AZD-6244, ARRY-886   \n",
       "498     1635  Picolinici-acid                             Picolinate   \n",
       "85      1032         Afatinib              BIBW2992, Tovok, Gilotrif   \n",
       "..       ...              ...                                    ...   \n",
       "186     1922        Cediranib  AZD2171, AZD 2171, AZD-2171, Recentin   \n",
       "444     1626           OTX015           Birabresib, OTX-015, MK-8628   \n",
       "221     1069         EHT-1864                               EHT 1864   \n",
       "295     1023         GW441756                              GW 441756   \n",
       "167     2175       CHIR-99021        CT 99021, CHIR99021, CHIR 99021   \n",
       "\n",
       "                                        Targets  \\\n",
       "131       TBK1, PDK1 (PDPK1), IKK, AURKB, AURKC   \n",
       "385                                       HSP90   \n",
       "565                                  MEK1, MEK2   \n",
       "498                        Inflammatory related   \n",
       "85                                  EGFR, ERBB2   \n",
       "..                                          ...   \n",
       "186  VEGFR, FLT1, FLT2, FLT3, FLT4, KIT, PDGFRB   \n",
       "444                            BRD2, BRD3, BRD4   \n",
       "221                            RAC1, RAC2, RAC3   \n",
       "295                                       NTRK1   \n",
       "167                                GSK3A, GSK3B   \n",
       "\n",
       "                        Target pathway   PubCHEM Datasets  \\\n",
       "131                     Other, kinases  10077147    GDSC2   \n",
       "385  Protein stability and degradation  10096043    GDSC2   \n",
       "565                 ERK MAPK signaling  10127622    GDSC2   \n",
       "498                              Other      1018    GDSC2   \n",
       "85                      EGFR signaling  10184653    GDSC2   \n",
       "..                                 ...       ...      ...   \n",
       "186                      RTK signaling   9933475    GDSC2   \n",
       "444                    Chromatin other   9936746    GDSC2   \n",
       "221                       Cytoskeleton   9938202    GDSC2   \n",
       "295                      RTK signaling   9943465    GDSC2   \n",
       "167                      WNT signaling   9956119    GDSC2   \n",
       "\n",
       "     number of cell lines Screening site  \\\n",
       "131                   225         SANGER   \n",
       "385                   964         SANGER   \n",
       "565                   949         SANGER   \n",
       "498                   893         SANGER   \n",
       "85                    966         SANGER   \n",
       "..                    ...            ...   \n",
       "186                   958         SANGER   \n",
       "444                   893         SANGER   \n",
       "221                   943         SANGER   \n",
       "295                   953         SANGER   \n",
       "167                   225         SANGER   \n",
       "\n",
       "                                                SMILES  \n",
       "131  C1CCN(C1)C(=O)NC2=CC=CC(=C2)NC3=NC=C(C(=N3)NCC...  \n",
       "385  CCNC(=O)C1=C(C(=C2C=C(C(=CC2=O)O)C(C)C)ON1)C3=...  \n",
       "565  CN1C=NC2=C1C=C(C(=C2F)NC3=C(C=C(C=C3)Br)Cl)C(=...  \n",
       "498                                C1=CC=NC(=C1)C(=O)O  \n",
       "85   CN(C)CC=CC(=O)NC1=C(C=C2C(=C1)C(=NC=N2)NC3=CC(...  \n",
       "..                                                 ...  \n",
       "186  CC1=CC2=C(N1)C=CC(=C2F)OC3=NC=NC4=CC(=C(C=C43)...  \n",
       "444  CC1=C(SC2=C1C(=NC(C3=NN=C(N32)C)CC(=O)NC4=CC=C...  \n",
       "221  C1COCCN1CC2=CC(=O)C(=CO2)OCCCCCSC3=C4C=CC(=CC4...  \n",
       "295         CN1C=C(C2=CC=CC=C21)C=C3C4=C(C=CC=N4)NC3=O  \n",
       "167  CC1=CN=C(N1)C2=CN=C(N=C2C3=C(C=C(C=C3)Cl)Cl)NC...  \n",
       "\n",
       "[186 rows x 10 columns]"
      ]
     },
     "execution_count": 143,
     "metadata": {},
     "output_type": "execute_result"
    }
   ],
   "source": [
    "cmpds"
   ]
  },
  {
   "cell_type": "markdown",
   "id": "c1928766",
   "metadata": {
    "deletable": false,
    "editable": false,
    "run_control": {
     "frozen": true
    }
   },
   "source": [
    "## SMILES to fingerprint"
   ]
  },
  {
   "cell_type": "code",
   "execution_count": 148,
   "id": "2f7e48fa",
   "metadata": {},
   "outputs": [],
   "source": [
    "# morgan fingerprint is awful; hash function is likely way too\n",
    "# difficult for a neural network to learn\n",
    "\n",
    "bx795_smiles = cmpds[\"SMILES\"].iloc[0]"
   ]
  },
  {
   "cell_type": "code",
   "execution_count": 150,
   "id": "a96d97bb",
   "metadata": {},
   "outputs": [
    {
     "data": {
      "image/png": "[encoded data removed]",
      "text/plain": [
       "<rdkit.Chem.rdchem.Mol at 0x7fd1865fbcf0>"
      ]
     },
     "execution_count": 150,
     "metadata": {},
     "output_type": "execute_result"
    }
   ],
   "source": [
    "bx795 = Chem.MolFromSmiles(bx795_smiles)\n",
    "bx795"
   ]
  },
  {
   "cell_type": "code",
   "execution_count": 163,
   "id": "c0d5061b",
   "metadata": {},
   "outputs": [
    {
     "name": "stdout",
     "output_type": "stream",
     "text": [
      "{0: 10, 1: 2, 2: 2, 4: 14, 6: 3, 8: 1, 19: 2, 109741511: 1, 128222166: 1, 193992059: 2, 239857054: 1, 317524188: 1, 594405818: 1, 613660003: 1, 614173363: 1, 614176388: 1, 666422235: 1, 728919389: 1, 728953866: 1, 728998013: 1, 729011515: 1, 729011661: 1, 756873222: 1, 761943436: 1, 1021009427: 1, 1230563926: 1, 1230564256: 1, 1251070542: 1, 1562420499: 1, 1690641099: 1, 1907154955: 1, 2179844032: 1, 2716535440: 1, 2756354407: 1, 2873949288: 1, 3205496507: 1, 3205496824: 2, 3514530458: 1, 3532241538: 1, 3659792644: 1, 3660059448: 1, 3662079838: 1, 3701757961: 1, 3764335747: 3, 3764344801: 6, 3764344823: 2, 3766528779: 1, 3766528791: 1, 3766532888: 5, 3766532903: 1, 3766532917: 1, 3766665719: 1, 3766674798: 1, 4182664752: 1, 4203098518: 1, 4203103696: 2, 4203214599: 1}\n",
      "{0: ((0, 0), (1, 0), (2, 0), (3, 0), (4, 0), (5, 0), (22, 0), (23, 0), (24, 0), (26, 0)), 1: ((7, 0), (25, 0)), 2: ((6, 0), (27, 0)), 4: ((8, 0), (9, 0), (10, 0), (11, 0), (12, 0), (13, 0), (15, 0), (17, 0), (18, 0), (19, 0), (28, 0), (29, 0), (30, 0), (31, 0)), 6: ((16, 0), (20, 0), (32, 0)), 8: ((33, 0),), 19: ((14, 0), (21, 0)), 109741511: ((25, 2),), 128222166: ((15, 2),), 193992059: ((2, 2), (4, 2)), 239857054: ((12, 2),), 317524188: ((18, 2),), 594405818: ((28, 1),), 613660003: ((26, 1),), 614173363: ((5, 1),), 614176388: ((3, 1),), 666422235: ((20, 2),), 728919389: ((18, 1),), 728953866: ((8, 1),), 728998013: ((15, 1),), 729011515: ((12, 1),), 729011661: ((19, 1),), 756873222: ((21, 2),), 761943436: ((13, 2),), 1021009427: ((3, 2),), 1230563926: ((10, 2),), 1230564256: ((30, 2),), 1251070542: ((31, 2),), 1562420499: ((28, 2),), 1690641099: ((14, 2),), 1907154955: ((7, 2),), 2179844032: ((19, 2),), 2716535440: ((8, 2),), 2756354407: ((26, 2),), 2873949288: ((5, 2),), 3205496507: ((33, 1),), 3205496824: ((6, 1), (27, 1)), 3514530458: ((32, 2),), 3532241538: ((29, 2),), 3659792644: ((17, 2),), 3660059448: ((11, 2),), 3662079838: ((9, 2),), 3701757961: ((16, 2),), 3764335747: ((16, 1), (20, 1), (32, 1)), 3764344801: ((9, 1), (10, 1), (11, 1), (29, 1), (30, 1), (13, 1)), 3764344823: ((17, 1), (31, 1)), 3766528779: ((25, 1),), 3766528791: ((7, 1),), 3766532888: ((1, 1), (2, 1), (23, 1), (0, 1), (4, 1)), 3766532903: ((24, 1),), 3766532917: ((22, 1),), 3766665719: ((14, 1),), 3766674798: ((21, 1),), 4182664752: ((24, 2),), 4203098518: ((23, 2),), 4203103696: ((1, 2), (0, 2)), 4203214599: ((22, 2),)}\n"
     ]
    },
    {
     "data": {
      "image/png": "[encoded data removed]",
      "text/plain": [
       "<PIL.PngImagePlugin.PngImageFile image mode=RGB size=150x150>"
      ]
     },
     "execution_count": 163,
     "metadata": {},
     "output_type": "execute_result"
    }
   ],
   "source": [
    "bi = {} # contains which atoms are involved in which features\n",
    "fcfp = AllChem.GetMorganFingerprint(bx795, 2, useFeatures=True, bitInfo=bi)\n",
    "print(fcfp.GetNonzeroElements())\n",
    "Draw.DrawMorganBit(bx795, 3532241538, bi)"
   ]
  },
  {
   "cell_type": "markdown",
   "id": "fc66f065",
   "metadata": {
    "deletable": false,
    "editable": false,
    "run_control": {
     "frozen": true
    }
   },
   "source": [
    "## Create training data\n",
    "\n",
    "- for every cell line/drug IC50 measurement:\n",
    "  - inputs: gene expression data; compound fingerprint\n",
    "  - output: IC50 value"
   ]
  },
  {
   "cell_type": "code",
   "execution_count": null,
   "id": "3264b47d",
   "metadata": {},
   "outputs": [],
   "source": []
  },
  {
   "cell_type": "markdown",
   "id": "7c9750f0",
   "metadata": {
    "deletable": false,
    "editable": false,
    "run_control": {
     "frozen": true
    }
   },
   "source": [
    "## Model architecture\n",
    "\n",
    "- inputs\n",
    "  - fingerprints\n",
    "    - key/count encoder\n",
    "    - all key/count vectors added together\n",
    "  - gene expression\n",
    "    - 17419 inputs (i.e. # genes with gene symbol)\n",
    "- overall architecture\n",
    "  - deep feedforward network\n",
    "  - eventually: attention network\n",
    "- output\n",
    "  - single prediction (float)"
   ]
  },
  {
   "cell_type": "code",
   "execution_count": 164,
   "id": "117248eb",
   "metadata": {},
   "outputs": [],
   "source": [
    "import torch\n",
    "import torch.nn as nn\n",
    "import torch.nn.functional as F\n",
    "import torch.optim as optim"
   ]
  },
  {
   "cell_type": "code",
   "execution_count": null,
   "id": "b73118ff",
   "metadata": {},
   "outputs": [],
   "source": [
    "class ResLinear(nn.Module):\n",
    "    def __init__(self, in_dim, hidden_dim, out_dim):\n",
    "        super().__init__()\n",
    "        \n",
    "        self.lin1 = nn.Linear(in_dim, hidden_dim)\n",
    "        self.lin2 = nn.Linear(hidden_dim, out_dim)\n",
    "    \n",
    "    def forward(self, x):\n",
    "        out = F.relu(self.lin1(x))\n",
    "        out = F.relu(self.lin2(x))\n",
    "        out += x\n",
    "        \n",
    "        return out\n",
    "\n",
    "class SensitivityNet(nn.Module):\n",
    "    def __init__(self, moldim, ngenes):\n",
    "        # moldim: dimension of molecular fingerprint\n",
    "        # ngenes: number of genes in gene expression data\n",
    "        super().__init__()\n",
    "        \n",
    "        self.linear1 = nn.Linear(moldim + ngenes, 512)\n",
    "        self.linear2 = nn.Linear(512, 512)\n",
    "        self.linear3 = nn.Linear(512, 512)\n",
    "        \n",
    "        self.linout = nn.Linear(512, 1) # predict IC50 [molar]\n",
    "    \n",
    "    def forward(self, gexpr, fp):\n",
    "        # gexpr: gene expression\n",
    "        # batch: (batch, moldim + ngenes)\n",
    "        x = torch.cat((gexpr, fp), dim=1)\n",
    "        out = F.relu(self.linear1(x))\n",
    "        out = F.relu(self.linear2(x))\n",
    "        out = F.relu(self.linear3(x))\n",
    "        out = self.linout(nn.Linear(out))\n",
    "        \n",
    "        return out"
   ]
  },
  {
   "cell_type": "code",
   "execution_count": null,
   "id": "1d6340a1",
   "metadata": {},
   "outputs": [],
   "source": [
    "mol_dim = 512\n",
    "num_genes = 17419\n",
    "model = SensitivityNet(mol_dim, num_genes)"
   ]
  }
 ],
 "metadata": {
  "kernelspec": {
   "display_name": "Python 3 (ipykernel)",
   "language": "python",
   "name": "python3"
  },
  "language_info": {
   "codemirror_mode": {
    "name": "ipython",
    "version": 3
   },
   "file_extension": ".py",
   "mimetype": "text/x-python",
   "name": "python",
   "nbconvert_exporter": "python",
   "pygments_lexer": "ipython3",
   "version": "3.9.15"
  }
 },
 "nbformat": 4,
 "nbformat_minor": 5
}
