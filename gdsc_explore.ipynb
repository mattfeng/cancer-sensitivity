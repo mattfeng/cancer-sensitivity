{
 "cells": [
  {
   "cell_type": "markdown",
   "id": "b4cdf3b3",
   "metadata": {
    "deletable": false,
    "editable": false,
    "run_control": {
     "frozen": true
    }
   },
   "source": [
    "# Exploring the GDSC dataset"
   ]
  },
  {
   "cell_type": "markdown",
   "id": "058c7387",
   "metadata": {},
   "source": [
    "## Dataset notes\n",
    "\n",
    "- response\n",
    "  - number of cell lines: 969\n",
    "  - number of drugs: 295\n",
    "- gene expression\n",
    "  - 17737 genes measured\n",
    "    - 17419 with gene symbol\n",
    "    - 318 without gene symbol\n",
    "- drug annotations\n",
    "  - 608 with identifiable name"
   ]
  },
  {
   "cell_type": "markdown",
   "id": "e46e6d9b",
   "metadata": {
    "deletable": false,
    "editable": false,
    "run_control": {
     "frozen": true
    }
   },
   "source": [
    "## Imports and constants"
   ]
  },
  {
   "cell_type": "code",
   "execution_count": 91,
   "id": "9c2c89af",
   "metadata": {},
   "outputs": [],
   "source": [
    "import pandas as pd\n",
    "import re\n",
    "import math"
   ]
  },
  {
   "cell_type": "code",
   "execution_count": 70,
   "id": "b15caa50",
   "metadata": {},
   "outputs": [],
   "source": [
    "datadir = \"/Volumes/OXYTOCIN/datasets/gdsc\"\n",
    "response_fname = \"GDSC2_fitted_dose_response_24Jul22.xlsx\" # drug response data\n",
    "expr_fname = \"Cell_line_RMA_proc_basalExp.txt\" # gene expression data\n",
    "cmpds_fname = \"Drug_list Jan 20 2023.csv\" # compound metadata"
   ]
  },
  {
   "cell_type": "markdown",
   "id": "1fe56b36",
   "metadata": {
    "deletable": false,
    "editable": false,
    "run_control": {
     "frozen": true
    }
   },
   "source": [
    "## Data exploration"
   ]
  },
  {
   "cell_type": "markdown",
   "id": "d3026335",
   "metadata": {
    "deletable": false,
    "editable": false,
    "run_control": {
     "frozen": true
    }
   },
   "source": [
    "### Drug response data"
   ]
  },
  {
   "cell_type": "code",
   "execution_count": 17,
   "id": "0478751e",
   "metadata": {},
   "outputs": [],
   "source": [
    "response = pd.read_excel(f\"{datadir}/{response_fname}\")"
   ]
  },
  {
   "cell_type": "code",
   "execution_count": 73,
   "id": "ade6a055",
   "metadata": {},
   "outputs": [
    {
     "data": {
      "text/html": [
       "<div>\n",
       "<style scoped>\n",
       "    .dataframe tbody tr th:only-of-type {\n",
       "        vertical-align: middle;\n",
       "    }\n",
       "\n",
       "    .dataframe tbody tr th {\n",
       "        vertical-align: top;\n",
       "    }\n",
       "\n",
       "    .dataframe thead th {\n",
       "        text-align: right;\n",
       "    }\n",
       "</style>\n",
       "<table border=\"1\" class=\"dataframe\">\n",
       "  <thead>\n",
       "    <tr style=\"text-align: right;\">\n",
       "      <th></th>\n",
       "      <th>DATASET</th>\n",
       "      <th>NLME_RESULT_ID</th>\n",
       "      <th>NLME_CURVE_ID</th>\n",
       "      <th>COSMIC_ID</th>\n",
       "      <th>CELL_LINE_NAME</th>\n",
       "      <th>SANGER_MODEL_ID</th>\n",
       "      <th>TCGA_DESC</th>\n",
       "      <th>DRUG_ID</th>\n",
       "      <th>DRUG_NAME</th>\n",
       "      <th>PUTATIVE_TARGET</th>\n",
       "      <th>PATHWAY_NAME</th>\n",
       "      <th>COMPANY_ID</th>\n",
       "      <th>WEBRELEASE</th>\n",
       "      <th>MIN_CONC</th>\n",
       "      <th>MAX_CONC</th>\n",
       "      <th>LN_IC50</th>\n",
       "      <th>AUC</th>\n",
       "      <th>RMSE</th>\n",
       "      <th>Z_SCORE</th>\n",
       "    </tr>\n",
       "  </thead>\n",
       "  <tbody>\n",
       "    <tr>\n",
       "      <th>0</th>\n",
       "      <td>GDSC2</td>\n",
       "      <td>401</td>\n",
       "      <td>18945558</td>\n",
       "      <td>683667</td>\n",
       "      <td>PFSK-1</td>\n",
       "      <td>SIDM01132</td>\n",
       "      <td>MB</td>\n",
       "      <td>1003</td>\n",
       "      <td>Camptothecin</td>\n",
       "      <td>TOP1</td>\n",
       "      <td>DNA replication</td>\n",
       "      <td>1046</td>\n",
       "      <td>Y</td>\n",
       "      <td>0.000100</td>\n",
       "      <td>0.1</td>\n",
       "      <td>-1.462148</td>\n",
       "      <td>0.930105</td>\n",
       "      <td>0.088999</td>\n",
       "      <td>0.432482</td>\n",
       "    </tr>\n",
       "    <tr>\n",
       "      <th>1</th>\n",
       "      <td>GDSC2</td>\n",
       "      <td>401</td>\n",
       "      <td>18945796</td>\n",
       "      <td>684052</td>\n",
       "      <td>A673</td>\n",
       "      <td>SIDM00848</td>\n",
       "      <td>UNCLASSIFIED</td>\n",
       "      <td>1003</td>\n",
       "      <td>Camptothecin</td>\n",
       "      <td>TOP1</td>\n",
       "      <td>DNA replication</td>\n",
       "      <td>1046</td>\n",
       "      <td>Y</td>\n",
       "      <td>0.000100</td>\n",
       "      <td>0.1</td>\n",
       "      <td>-4.869447</td>\n",
       "      <td>0.614932</td>\n",
       "      <td>0.111423</td>\n",
       "      <td>-1.420322</td>\n",
       "    </tr>\n",
       "    <tr>\n",
       "      <th>2</th>\n",
       "      <td>GDSC2</td>\n",
       "      <td>401</td>\n",
       "      <td>18946078</td>\n",
       "      <td>684057</td>\n",
       "      <td>ES5</td>\n",
       "      <td>SIDM00263</td>\n",
       "      <td>UNCLASSIFIED</td>\n",
       "      <td>1003</td>\n",
       "      <td>Camptothecin</td>\n",
       "      <td>TOP1</td>\n",
       "      <td>DNA replication</td>\n",
       "      <td>1046</td>\n",
       "      <td>Y</td>\n",
       "      <td>0.000100</td>\n",
       "      <td>0.1</td>\n",
       "      <td>-3.360684</td>\n",
       "      <td>0.790953</td>\n",
       "      <td>0.142754</td>\n",
       "      <td>-0.599894</td>\n",
       "    </tr>\n",
       "    <tr>\n",
       "      <th>3</th>\n",
       "      <td>GDSC2</td>\n",
       "      <td>401</td>\n",
       "      <td>18946335</td>\n",
       "      <td>684059</td>\n",
       "      <td>ES7</td>\n",
       "      <td>SIDM00269</td>\n",
       "      <td>UNCLASSIFIED</td>\n",
       "      <td>1003</td>\n",
       "      <td>Camptothecin</td>\n",
       "      <td>TOP1</td>\n",
       "      <td>DNA replication</td>\n",
       "      <td>1046</td>\n",
       "      <td>Y</td>\n",
       "      <td>0.000100</td>\n",
       "      <td>0.1</td>\n",
       "      <td>-5.045014</td>\n",
       "      <td>0.592624</td>\n",
       "      <td>0.135642</td>\n",
       "      <td>-1.515791</td>\n",
       "    </tr>\n",
       "    <tr>\n",
       "      <th>4</th>\n",
       "      <td>GDSC2</td>\n",
       "      <td>401</td>\n",
       "      <td>18946617</td>\n",
       "      <td>684062</td>\n",
       "      <td>EW-11</td>\n",
       "      <td>SIDM00203</td>\n",
       "      <td>UNCLASSIFIED</td>\n",
       "      <td>1003</td>\n",
       "      <td>Camptothecin</td>\n",
       "      <td>TOP1</td>\n",
       "      <td>DNA replication</td>\n",
       "      <td>1046</td>\n",
       "      <td>Y</td>\n",
       "      <td>0.000100</td>\n",
       "      <td>0.1</td>\n",
       "      <td>-3.741620</td>\n",
       "      <td>0.733992</td>\n",
       "      <td>0.128066</td>\n",
       "      <td>-0.807038</td>\n",
       "    </tr>\n",
       "    <tr>\n",
       "      <th>...</th>\n",
       "      <td>...</td>\n",
       "      <td>...</td>\n",
       "      <td>...</td>\n",
       "      <td>...</td>\n",
       "      <td>...</td>\n",
       "      <td>...</td>\n",
       "      <td>...</td>\n",
       "      <td>...</td>\n",
       "      <td>...</td>\n",
       "      <td>...</td>\n",
       "      <td>...</td>\n",
       "      <td>...</td>\n",
       "      <td>...</td>\n",
       "      <td>...</td>\n",
       "      <td>...</td>\n",
       "      <td>...</td>\n",
       "      <td>...</td>\n",
       "      <td>...</td>\n",
       "      <td>...</td>\n",
       "    </tr>\n",
       "    <tr>\n",
       "      <th>242031</th>\n",
       "      <td>GDSC2</td>\n",
       "      <td>401</td>\n",
       "      <td>19187490</td>\n",
       "      <td>1659928</td>\n",
       "      <td>SNU-175</td>\n",
       "      <td>SIDM00216</td>\n",
       "      <td>COREAD</td>\n",
       "      <td>2499</td>\n",
       "      <td>N-acetyl cysteine</td>\n",
       "      <td>Metabolism</td>\n",
       "      <td>Metabolism</td>\n",
       "      <td>1101</td>\n",
       "      <td>Y</td>\n",
       "      <td>2.001054</td>\n",
       "      <td>2000.0</td>\n",
       "      <td>10.134495</td>\n",
       "      <td>0.976798</td>\n",
       "      <td>0.074441</td>\n",
       "      <td>0.159946</td>\n",
       "    </tr>\n",
       "    <tr>\n",
       "      <th>242032</th>\n",
       "      <td>GDSC2</td>\n",
       "      <td>401</td>\n",
       "      <td>19187943</td>\n",
       "      <td>1660034</td>\n",
       "      <td>SNU-407</td>\n",
       "      <td>SIDM00214</td>\n",
       "      <td>COREAD</td>\n",
       "      <td>2499</td>\n",
       "      <td>N-acetyl cysteine</td>\n",
       "      <td>Metabolism</td>\n",
       "      <td>Metabolism</td>\n",
       "      <td>1101</td>\n",
       "      <td>Y</td>\n",
       "      <td>2.001054</td>\n",
       "      <td>2000.0</td>\n",
       "      <td>8.575555</td>\n",
       "      <td>0.913182</td>\n",
       "      <td>0.057743</td>\n",
       "      <td>-1.626059</td>\n",
       "    </tr>\n",
       "    <tr>\n",
       "      <th>242033</th>\n",
       "      <td>GDSC2</td>\n",
       "      <td>401</td>\n",
       "      <td>19188201</td>\n",
       "      <td>1660035</td>\n",
       "      <td>SNU-61</td>\n",
       "      <td>SIDM00194</td>\n",
       "      <td>COREAD</td>\n",
       "      <td>2499</td>\n",
       "      <td>N-acetyl cysteine</td>\n",
       "      <td>Metabolism</td>\n",
       "      <td>Metabolism</td>\n",
       "      <td>1101</td>\n",
       "      <td>Y</td>\n",
       "      <td>2.001054</td>\n",
       "      <td>2000.0</td>\n",
       "      <td>10.520666</td>\n",
       "      <td>0.974889</td>\n",
       "      <td>0.058094</td>\n",
       "      <td>0.602364</td>\n",
       "    </tr>\n",
       "    <tr>\n",
       "      <th>242034</th>\n",
       "      <td>GDSC2</td>\n",
       "      <td>401</td>\n",
       "      <td>19188741</td>\n",
       "      <td>1674021</td>\n",
       "      <td>SNU-C5</td>\n",
       "      <td>SIDM00498</td>\n",
       "      <td>COREAD</td>\n",
       "      <td>2499</td>\n",
       "      <td>N-acetyl cysteine</td>\n",
       "      <td>Metabolism</td>\n",
       "      <td>Metabolism</td>\n",
       "      <td>1101</td>\n",
       "      <td>Y</td>\n",
       "      <td>2.001054</td>\n",
       "      <td>2000.0</td>\n",
       "      <td>10.701430</td>\n",
       "      <td>0.970009</td>\n",
       "      <td>0.100980</td>\n",
       "      <td>0.809457</td>\n",
       "    </tr>\n",
       "    <tr>\n",
       "      <th>242035</th>\n",
       "      <td>GDSC2</td>\n",
       "      <td>401</td>\n",
       "      <td>19189023</td>\n",
       "      <td>1789883</td>\n",
       "      <td>DiFi</td>\n",
       "      <td>SIDM00049</td>\n",
       "      <td>COREAD</td>\n",
       "      <td>2499</td>\n",
       "      <td>N-acetyl cysteine</td>\n",
       "      <td>Metabolism</td>\n",
       "      <td>Metabolism</td>\n",
       "      <td>1101</td>\n",
       "      <td>Y</td>\n",
       "      <td>2.001054</td>\n",
       "      <td>2000.0</td>\n",
       "      <td>10.038769</td>\n",
       "      <td>0.966966</td>\n",
       "      <td>0.089022</td>\n",
       "      <td>0.050277</td>\n",
       "    </tr>\n",
       "  </tbody>\n",
       "</table>\n",
       "<p>242036 rows × 19 columns</p>\n",
       "</div>"
      ],
      "text/plain": [
       "       DATASET  NLME_RESULT_ID  NLME_CURVE_ID  COSMIC_ID CELL_LINE_NAME  \\\n",
       "0        GDSC2             401       18945558     683667         PFSK-1   \n",
       "1        GDSC2             401       18945796     684052           A673   \n",
       "2        GDSC2             401       18946078     684057            ES5   \n",
       "3        GDSC2             401       18946335     684059            ES7   \n",
       "4        GDSC2             401       18946617     684062          EW-11   \n",
       "...        ...             ...            ...        ...            ...   \n",
       "242031   GDSC2             401       19187490    1659928        SNU-175   \n",
       "242032   GDSC2             401       19187943    1660034        SNU-407   \n",
       "242033   GDSC2             401       19188201    1660035         SNU-61   \n",
       "242034   GDSC2             401       19188741    1674021         SNU-C5   \n",
       "242035   GDSC2             401       19189023    1789883           DiFi   \n",
       "\n",
       "       SANGER_MODEL_ID     TCGA_DESC  DRUG_ID          DRUG_NAME  \\\n",
       "0            SIDM01132            MB     1003       Camptothecin   \n",
       "1            SIDM00848  UNCLASSIFIED     1003       Camptothecin   \n",
       "2            SIDM00263  UNCLASSIFIED     1003       Camptothecin   \n",
       "3            SIDM00269  UNCLASSIFIED     1003       Camptothecin   \n",
       "4            SIDM00203  UNCLASSIFIED     1003       Camptothecin   \n",
       "...                ...           ...      ...                ...   \n",
       "242031       SIDM00216        COREAD     2499  N-acetyl cysteine   \n",
       "242032       SIDM00214        COREAD     2499  N-acetyl cysteine   \n",
       "242033       SIDM00194        COREAD     2499  N-acetyl cysteine   \n",
       "242034       SIDM00498        COREAD     2499  N-acetyl cysteine   \n",
       "242035       SIDM00049        COREAD     2499  N-acetyl cysteine   \n",
       "\n",
       "       PUTATIVE_TARGET     PATHWAY_NAME  COMPANY_ID WEBRELEASE  MIN_CONC  \\\n",
       "0                 TOP1  DNA replication        1046          Y  0.000100   \n",
       "1                 TOP1  DNA replication        1046          Y  0.000100   \n",
       "2                 TOP1  DNA replication        1046          Y  0.000100   \n",
       "3                 TOP1  DNA replication        1046          Y  0.000100   \n",
       "4                 TOP1  DNA replication        1046          Y  0.000100   \n",
       "...                ...              ...         ...        ...       ...   \n",
       "242031      Metabolism       Metabolism        1101          Y  2.001054   \n",
       "242032      Metabolism       Metabolism        1101          Y  2.001054   \n",
       "242033      Metabolism       Metabolism        1101          Y  2.001054   \n",
       "242034      Metabolism       Metabolism        1101          Y  2.001054   \n",
       "242035      Metabolism       Metabolism        1101          Y  2.001054   \n",
       "\n",
       "        MAX_CONC    LN_IC50       AUC      RMSE   Z_SCORE  \n",
       "0            0.1  -1.462148  0.930105  0.088999  0.432482  \n",
       "1            0.1  -4.869447  0.614932  0.111423 -1.420322  \n",
       "2            0.1  -3.360684  0.790953  0.142754 -0.599894  \n",
       "3            0.1  -5.045014  0.592624  0.135642 -1.515791  \n",
       "4            0.1  -3.741620  0.733992  0.128066 -0.807038  \n",
       "...          ...        ...       ...       ...       ...  \n",
       "242031    2000.0  10.134495  0.976798  0.074441  0.159946  \n",
       "242032    2000.0   8.575555  0.913182  0.057743 -1.626059  \n",
       "242033    2000.0  10.520666  0.974889  0.058094  0.602364  \n",
       "242034    2000.0  10.701430  0.970009  0.100980  0.809457  \n",
       "242035    2000.0  10.038769  0.966966  0.089022  0.050277  \n",
       "\n",
       "[242036 rows x 19 columns]"
      ]
     },
     "execution_count": 73,
     "metadata": {},
     "output_type": "execute_result"
    }
   ],
   "source": [
    "response"
   ]
  },
  {
   "cell_type": "code",
   "execution_count": 18,
   "id": "0e05e706",
   "metadata": {},
   "outputs": [
    {
     "name": "stdout",
     "output_type": "stream",
     "text": [
      "num cell lines: 969\n",
      "num drugs: 295\n"
     ]
    }
   ],
   "source": [
    "# basic info about response dataset\n",
    "print(\"num cell lines:\", len(response[\"CELL_LINE_NAME\"].unique()))\n",
    "print(\"num drugs:\", len(response[\"DRUG_ID\"].unique()))"
   ]
  },
  {
   "cell_type": "markdown",
   "id": "5c829de3",
   "metadata": {
    "deletable": false,
    "editable": false,
    "run_control": {
     "frozen": true
    }
   },
   "source": [
    "### Expression data"
   ]
  },
  {
   "cell_type": "code",
   "execution_count": 67,
   "id": "68eb6a37",
   "metadata": {},
   "outputs": [],
   "source": [
    "df = pd.read_csv(f\"{datadir}/{expr_fname}\", sep=\"\\t\")"
   ]
  },
  {
   "cell_type": "code",
   "execution_count": 12,
   "id": "b3284a69",
   "metadata": {},
   "outputs": [
    {
     "data": {
      "text/plain": [
       "1020"
      ]
     },
     "execution_count": 12,
     "metadata": {},
     "output_type": "execute_result"
    }
   ],
   "source": [
    "len(df.columns)"
   ]
  },
  {
   "cell_type": "code",
   "execution_count": 13,
   "id": "c8cfaf3f",
   "metadata": {},
   "outputs": [
    {
     "data": {
      "text/plain": [
       "Index(['GENE_SYMBOLS', 'GENE_title', 'DATA.906826', 'DATA.687983',\n",
       "       'DATA.910927', 'DATA.1240138', 'DATA.1240139', 'DATA.906792',\n",
       "       'DATA.910688', 'DATA.1240135',\n",
       "       ...\n",
       "       'DATA.753584', 'DATA.907044', 'DATA.998184', 'DATA.908145',\n",
       "       'DATA.1659787', 'DATA.1298157', 'DATA.1480372', 'DATA.1298533',\n",
       "       'DATA.930299', 'DATA.905954.1'],\n",
       "      dtype='object', length=1020)"
      ]
     },
     "execution_count": 13,
     "metadata": {},
     "output_type": "execute_result"
    }
   ],
   "source": [
    "df.columns"
   ]
  },
  {
   "cell_type": "code",
   "execution_count": 34,
   "id": "29f967e7",
   "metadata": {},
   "outputs": [
    {
     "data": {
      "text/plain": [
       "(17419, 17419, 17737)"
      ]
     },
     "execution_count": 34,
     "metadata": {},
     "output_type": "execute_result"
    }
   ],
   "source": [
    "len(df[\"GENE_SYMBOLS\"].dropna()), len(set(df[\"GENE_SYMBOLS\"].dropna())), len(df[\"GENE_SYMBOLS\"])"
   ]
  },
  {
   "cell_type": "markdown",
   "id": "dd1e695b",
   "metadata": {
    "deletable": false,
    "editable": false,
    "run_control": {
     "frozen": true
    }
   },
   "source": [
    "### Drug metadata"
   ]
  },
  {
   "cell_type": "code",
   "execution_count": 80,
   "id": "b5e3ae85",
   "metadata": {},
   "outputs": [],
   "source": [
    "cmpds = pd.read_csv(f\"{datadir}/{cmpds_fname}\")"
   ]
  },
  {
   "cell_type": "code",
   "execution_count": 81,
   "id": "ab459347",
   "metadata": {},
   "outputs": [
    {
     "data": {
      "text/plain": [
       "Index(['Drug Id', 'Name', 'Synonyms', 'Targets', 'Target pathway', 'PubCHEM',\n",
       "       'Datasets', 'number of cell lines', 'Screening site'],\n",
       "      dtype='object')"
      ]
     },
     "execution_count": 81,
     "metadata": {},
     "output_type": "execute_result"
    }
   ],
   "source": [
    "cmpds.columns"
   ]
  },
  {
   "cell_type": "code",
   "execution_count": 111,
   "id": "569d2695",
   "metadata": {},
   "outputs": [
    {
     "name": "stdout",
     "output_type": "stream",
     "text": [
      "186\n"
     ]
    }
   ],
   "source": [
    "# keep compounds with pubchem id\n",
    "cmpds = cmpds[cmpds[\"Datasets\"] == \"GDSC2\"]\n",
    "cmpds = cmpds[cmpds[\"PubCHEM\"].notna()]\n",
    "cmpds = cmpds[cmpds[\"PubCHEM\"] != \"None\"]\n",
    "cmpds = cmpds[cmpds[\"PubCHEM\"] != \"none\"]\n",
    "cmpds = cmpds[cmpds[\"PubCHEM\"] != \"several\"]\n",
    "cmpds[\"PubCHEM_single\"] = cmpds[\"PubCHEM\"].map(lambda f: f.split(\",\")[0])\n",
    "cmpds = cmpds.sort_values(by=\"PubCHEM_single\")\n",
    "print(len(cmpds))"
   ]
  },
  {
   "cell_type": "code",
   "execution_count": null,
   "id": "348c2d3f",
   "metadata": {},
   "outputs": [],
   "source": []
  },
  {
   "cell_type": "code",
   "execution_count": null,
   "id": "a25ae82a",
   "metadata": {},
   "outputs": [],
   "source": []
  },
  {
   "cell_type": "code",
   "execution_count": null,
   "id": "c4835597",
   "metadata": {},
   "outputs": [],
   "source": []
  },
  {
   "cell_type": "code",
   "execution_count": null,
   "id": "54413e70",
   "metadata": {},
   "outputs": [],
   "source": []
  }
 ],
 "metadata": {
  "kernelspec": {
   "display_name": "Python 3 (ipykernel)",
   "language": "python",
   "name": "python3"
  },
  "language_info": {
   "codemirror_mode": {
    "name": "ipython",
    "version": 3
   },
   "file_extension": ".py",
   "mimetype": "text/x-python",
   "name": "python",
   "nbconvert_exporter": "python",
   "pygments_lexer": "ipython3",
   "version": "3.9.15"
  }
 },
 "nbformat": 4,
 "nbformat_minor": 5
}
