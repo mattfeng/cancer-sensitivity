{
 "cells": [
  {
   "cell_type": "markdown",
   "id": "11a3c5d8",
   "metadata": {
    "deletable": false,
    "editable": false,
    "run_control": {
     "frozen": true
    }
   },
   "source": [
    "# Exploring the GDSC dataset"
   ]
  },
  {
   "cell_type": "markdown",
   "id": "856b9db2",
   "metadata": {},
   "source": [
    "## Dataset notes\n",
    "\n",
    "- response\n",
    "  - number of cell lines: 969\n",
    "  - number of drugs: 295\n",
    "- gene expression\n",
    "  - 17737 genes measured\n",
    "    - 17419 with gene symbol\n",
    "    - 318 without gene symbol\n",
    "- drug annotations\n",
    "  - 608 with identifiable name"
   ]
  },
  {
   "cell_type": "markdown",
   "id": "2caddb55",
   "metadata": {
    "deletable": false,
    "editable": false,
    "run_control": {
     "frozen": true
    }
   },
   "source": [
    "## Imports and constants"
   ]
  },
  {
   "cell_type": "code",
   "execution_count": 154,
   "id": "9c2c89af",
   "metadata": {},
   "outputs": [],
   "source": [
    "from rdkit import Chem\n",
    "from rdkit.Chem import AllChem, Draw\n",
    "\n",
    "import pandas as pd\n",
    "import re\n",
    "import math\n",
    "import json"
   ]
  },
  {
   "cell_type": "code",
   "execution_count": 121,
   "id": "b15caa50",
   "metadata": {},
   "outputs": [],
   "source": [
    "datadir = \"/Volumes/OXYTOCIN/datasets/gdsc\"\n",
    "response_fname = \"GDSC2_fitted_dose_response_24Jul22.xlsx\" # drug response data\n",
    "expr_fname = \"Cell_line_RMA_proc_basalExp.txt\" # gene expression data\n",
    "cmpds_fname = \"Drug_list Jan 20 2023.csv\" # compound metadata\n",
    "pubchem_fname = \"gdsc2_drug_pubchem_info.csv\""
   ]
  },
  {
   "cell_type": "markdown",
   "id": "0341b74a",
   "metadata": {
    "deletable": false,
    "editable": false,
    "run_control": {
     "frozen": true
    }
   },
   "source": [
    "## Data exploration"
   ]
  },
  {
   "cell_type": "markdown",
   "id": "426697c6",
   "metadata": {
    "deletable": false,
    "editable": false,
    "run_control": {
     "frozen": true
    }
   },
   "source": [
    "### Drug response data"
   ]
  },
  {
   "cell_type": "code",
   "execution_count": 17,
   "id": "0478751e",
   "metadata": {},
   "outputs": [],
   "source": [
    "response = pd.read_excel(f\"{datadir}/{response_fname}\")"
   ]
  },
  {
   "cell_type": "code",
   "execution_count": 73,
   "id": "ef62e7c1",
   "metadata": {},
   "outputs": [
    {
     "data": {
      "text/html": [
       "<div>\n",
       "<style scoped>\n",
       "    .dataframe tbody tr th:only-of-type {\n",
       "        vertical-align: middle;\n",
       "    }\n",
       "\n",
       "    .dataframe tbody tr th {\n",
       "        vertical-align: top;\n",
       "    }\n",
       "\n",
       "    .dataframe thead th {\n",
       "        text-align: right;\n",
       "    }\n",
       "</style>\n",
       "<table border=\"1\" class=\"dataframe\">\n",
       "  <thead>\n",
       "    <tr style=\"text-align: right;\">\n",
       "      <th></th>\n",
       "      <th>DATASET</th>\n",
       "      <th>NLME_RESULT_ID</th>\n",
       "      <th>NLME_CURVE_ID</th>\n",
       "      <th>COSMIC_ID</th>\n",
       "      <th>CELL_LINE_NAME</th>\n",
       "      <th>SANGER_MODEL_ID</th>\n",
       "      <th>TCGA_DESC</th>\n",
       "      <th>DRUG_ID</th>\n",
       "      <th>DRUG_NAME</th>\n",
       "      <th>PUTATIVE_TARGET</th>\n",
       "      <th>PATHWAY_NAME</th>\n",
       "      <th>COMPANY_ID</th>\n",
       "      <th>WEBRELEASE</th>\n",
       "      <th>MIN_CONC</th>\n",
       "      <th>MAX_CONC</th>\n",
       "      <th>LN_IC50</th>\n",
       "      <th>AUC</th>\n",
       "      <th>RMSE</th>\n",
       "      <th>Z_SCORE</th>\n",
       "    </tr>\n",
       "  </thead>\n",
       "  <tbody>\n",
       "    <tr>\n",
       "      <th>0</th>\n",
       "      <td>GDSC2</td>\n",
       "      <td>401</td>\n",
       "      <td>18945558</td>\n",
       "      <td>683667</td>\n",
       "      <td>PFSK-1</td>\n",
       "      <td>SIDM01132</td>\n",
       "      <td>MB</td>\n",
       "      <td>1003</td>\n",
       "      <td>Camptothecin</td>\n",
       "      <td>TOP1</td>\n",
       "      <td>DNA replication</td>\n",
       "      <td>1046</td>\n",
       "      <td>Y</td>\n",
       "      <td>0.000100</td>\n",
       "      <td>0.1</td>\n",
       "      <td>-1.462148</td>\n",
       "      <td>0.930105</td>\n",
       "      <td>0.088999</td>\n",
       "      <td>0.432482</td>\n",
       "    </tr>\n",
       "    <tr>\n",
       "      <th>1</th>\n",
       "      <td>GDSC2</td>\n",
       "      <td>401</td>\n",
       "      <td>18945796</td>\n",
       "      <td>684052</td>\n",
       "      <td>A673</td>\n",
       "      <td>SIDM00848</td>\n",
       "      <td>UNCLASSIFIED</td>\n",
       "      <td>1003</td>\n",
       "      <td>Camptothecin</td>\n",
       "      <td>TOP1</td>\n",
       "      <td>DNA replication</td>\n",
       "      <td>1046</td>\n",
       "      <td>Y</td>\n",
       "      <td>0.000100</td>\n",
       "      <td>0.1</td>\n",
       "      <td>-4.869447</td>\n",
       "      <td>0.614932</td>\n",
       "      <td>0.111423</td>\n",
       "      <td>-1.420322</td>\n",
       "    </tr>\n",
       "    <tr>\n",
       "      <th>2</th>\n",
       "      <td>GDSC2</td>\n",
       "      <td>401</td>\n",
       "      <td>18946078</td>\n",
       "      <td>684057</td>\n",
       "      <td>ES5</td>\n",
       "      <td>SIDM00263</td>\n",
       "      <td>UNCLASSIFIED</td>\n",
       "      <td>1003</td>\n",
       "      <td>Camptothecin</td>\n",
       "      <td>TOP1</td>\n",
       "      <td>DNA replication</td>\n",
       "      <td>1046</td>\n",
       "      <td>Y</td>\n",
       "      <td>0.000100</td>\n",
       "      <td>0.1</td>\n",
       "      <td>-3.360684</td>\n",
       "      <td>0.790953</td>\n",
       "      <td>0.142754</td>\n",
       "      <td>-0.599894</td>\n",
       "    </tr>\n",
       "    <tr>\n",
       "      <th>3</th>\n",
       "      <td>GDSC2</td>\n",
       "      <td>401</td>\n",
       "      <td>18946335</td>\n",
       "      <td>684059</td>\n",
       "      <td>ES7</td>\n",
       "      <td>SIDM00269</td>\n",
       "      <td>UNCLASSIFIED</td>\n",
       "      <td>1003</td>\n",
       "      <td>Camptothecin</td>\n",
       "      <td>TOP1</td>\n",
       "      <td>DNA replication</td>\n",
       "      <td>1046</td>\n",
       "      <td>Y</td>\n",
       "      <td>0.000100</td>\n",
       "      <td>0.1</td>\n",
       "      <td>-5.045014</td>\n",
       "      <td>0.592624</td>\n",
       "      <td>0.135642</td>\n",
       "      <td>-1.515791</td>\n",
       "    </tr>\n",
       "    <tr>\n",
       "      <th>4</th>\n",
       "      <td>GDSC2</td>\n",
       "      <td>401</td>\n",
       "      <td>18946617</td>\n",
       "      <td>684062</td>\n",
       "      <td>EW-11</td>\n",
       "      <td>SIDM00203</td>\n",
       "      <td>UNCLASSIFIED</td>\n",
       "      <td>1003</td>\n",
       "      <td>Camptothecin</td>\n",
       "      <td>TOP1</td>\n",
       "      <td>DNA replication</td>\n",
       "      <td>1046</td>\n",
       "      <td>Y</td>\n",
       "      <td>0.000100</td>\n",
       "      <td>0.1</td>\n",
       "      <td>-3.741620</td>\n",
       "      <td>0.733992</td>\n",
       "      <td>0.128066</td>\n",
       "      <td>-0.807038</td>\n",
       "    </tr>\n",
       "    <tr>\n",
       "      <th>...</th>\n",
       "      <td>...</td>\n",
       "      <td>...</td>\n",
       "      <td>...</td>\n",
       "      <td>...</td>\n",
       "      <td>...</td>\n",
       "      <td>...</td>\n",
       "      <td>...</td>\n",
       "      <td>...</td>\n",
       "      <td>...</td>\n",
       "      <td>...</td>\n",
       "      <td>...</td>\n",
       "      <td>...</td>\n",
       "      <td>...</td>\n",
       "      <td>...</td>\n",
       "      <td>...</td>\n",
       "      <td>...</td>\n",
       "      <td>...</td>\n",
       "      <td>...</td>\n",
       "      <td>...</td>\n",
       "    </tr>\n",
       "    <tr>\n",
       "      <th>242031</th>\n",
       "      <td>GDSC2</td>\n",
       "      <td>401</td>\n",
       "      <td>19187490</td>\n",
       "      <td>1659928</td>\n",
       "      <td>SNU-175</td>\n",
       "      <td>SIDM00216</td>\n",
       "      <td>COREAD</td>\n",
       "      <td>2499</td>\n",
       "      <td>N-acetyl cysteine</td>\n",
       "      <td>Metabolism</td>\n",
       "      <td>Metabolism</td>\n",
       "      <td>1101</td>\n",
       "      <td>Y</td>\n",
       "      <td>2.001054</td>\n",
       "      <td>2000.0</td>\n",
       "      <td>10.134495</td>\n",
       "      <td>0.976798</td>\n",
       "      <td>0.074441</td>\n",
       "      <td>0.159946</td>\n",
       "    </tr>\n",
       "    <tr>\n",
       "      <th>242032</th>\n",
       "      <td>GDSC2</td>\n",
       "      <td>401</td>\n",
       "      <td>19187943</td>\n",
       "      <td>1660034</td>\n",
       "      <td>SNU-407</td>\n",
       "      <td>SIDM00214</td>\n",
       "      <td>COREAD</td>\n",
       "      <td>2499</td>\n",
       "      <td>N-acetyl cysteine</td>\n",
       "      <td>Metabolism</td>\n",
       "      <td>Metabolism</td>\n",
       "      <td>1101</td>\n",
       "      <td>Y</td>\n",
       "      <td>2.001054</td>\n",
       "      <td>2000.0</td>\n",
       "      <td>8.575555</td>\n",
       "      <td>0.913182</td>\n",
       "      <td>0.057743</td>\n",
       "      <td>-1.626059</td>\n",
       "    </tr>\n",
       "    <tr>\n",
       "      <th>242033</th>\n",
       "      <td>GDSC2</td>\n",
       "      <td>401</td>\n",
       "      <td>19188201</td>\n",
       "      <td>1660035</td>\n",
       "      <td>SNU-61</td>\n",
       "      <td>SIDM00194</td>\n",
       "      <td>COREAD</td>\n",
       "      <td>2499</td>\n",
       "      <td>N-acetyl cysteine</td>\n",
       "      <td>Metabolism</td>\n",
       "      <td>Metabolism</td>\n",
       "      <td>1101</td>\n",
       "      <td>Y</td>\n",
       "      <td>2.001054</td>\n",
       "      <td>2000.0</td>\n",
       "      <td>10.520666</td>\n",
       "      <td>0.974889</td>\n",
       "      <td>0.058094</td>\n",
       "      <td>0.602364</td>\n",
       "    </tr>\n",
       "    <tr>\n",
       "      <th>242034</th>\n",
       "      <td>GDSC2</td>\n",
       "      <td>401</td>\n",
       "      <td>19188741</td>\n",
       "      <td>1674021</td>\n",
       "      <td>SNU-C5</td>\n",
       "      <td>SIDM00498</td>\n",
       "      <td>COREAD</td>\n",
       "      <td>2499</td>\n",
       "      <td>N-acetyl cysteine</td>\n",
       "      <td>Metabolism</td>\n",
       "      <td>Metabolism</td>\n",
       "      <td>1101</td>\n",
       "      <td>Y</td>\n",
       "      <td>2.001054</td>\n",
       "      <td>2000.0</td>\n",
       "      <td>10.701430</td>\n",
       "      <td>0.970009</td>\n",
       "      <td>0.100980</td>\n",
       "      <td>0.809457</td>\n",
       "    </tr>\n",
       "    <tr>\n",
       "      <th>242035</th>\n",
       "      <td>GDSC2</td>\n",
       "      <td>401</td>\n",
       "      <td>19189023</td>\n",
       "      <td>1789883</td>\n",
       "      <td>DiFi</td>\n",
       "      <td>SIDM00049</td>\n",
       "      <td>COREAD</td>\n",
       "      <td>2499</td>\n",
       "      <td>N-acetyl cysteine</td>\n",
       "      <td>Metabolism</td>\n",
       "      <td>Metabolism</td>\n",
       "      <td>1101</td>\n",
       "      <td>Y</td>\n",
       "      <td>2.001054</td>\n",
       "      <td>2000.0</td>\n",
       "      <td>10.038769</td>\n",
       "      <td>0.966966</td>\n",
       "      <td>0.089022</td>\n",
       "      <td>0.050277</td>\n",
       "    </tr>\n",
       "  </tbody>\n",
       "</table>\n",
       "<p>242036 rows × 19 columns</p>\n",
       "</div>"
      ],
      "text/plain": [
       "       DATASET  NLME_RESULT_ID  NLME_CURVE_ID  COSMIC_ID CELL_LINE_NAME  \\\n",
       "0        GDSC2             401       18945558     683667         PFSK-1   \n",
       "1        GDSC2             401       18945796     684052           A673   \n",
       "2        GDSC2             401       18946078     684057            ES5   \n",
       "3        GDSC2             401       18946335     684059            ES7   \n",
       "4        GDSC2             401       18946617     684062          EW-11   \n",
       "...        ...             ...            ...        ...            ...   \n",
       "242031   GDSC2             401       19187490    1659928        SNU-175   \n",
       "242032   GDSC2             401       19187943    1660034        SNU-407   \n",
       "242033   GDSC2             401       19188201    1660035         SNU-61   \n",
       "242034   GDSC2             401       19188741    1674021         SNU-C5   \n",
       "242035   GDSC2             401       19189023    1789883           DiFi   \n",
       "\n",
       "       SANGER_MODEL_ID     TCGA_DESC  DRUG_ID          DRUG_NAME  \\\n",
       "0            SIDM01132            MB     1003       Camptothecin   \n",
       "1            SIDM00848  UNCLASSIFIED     1003       Camptothecin   \n",
       "2            SIDM00263  UNCLASSIFIED     1003       Camptothecin   \n",
       "3            SIDM00269  UNCLASSIFIED     1003       Camptothecin   \n",
       "4            SIDM00203  UNCLASSIFIED     1003       Camptothecin   \n",
       "...                ...           ...      ...                ...   \n",
       "242031       SIDM00216        COREAD     2499  N-acetyl cysteine   \n",
       "242032       SIDM00214        COREAD     2499  N-acetyl cysteine   \n",
       "242033       SIDM00194        COREAD     2499  N-acetyl cysteine   \n",
       "242034       SIDM00498        COREAD     2499  N-acetyl cysteine   \n",
       "242035       SIDM00049        COREAD     2499  N-acetyl cysteine   \n",
       "\n",
       "       PUTATIVE_TARGET     PATHWAY_NAME  COMPANY_ID WEBRELEASE  MIN_CONC  \\\n",
       "0                 TOP1  DNA replication        1046          Y  0.000100   \n",
       "1                 TOP1  DNA replication        1046          Y  0.000100   \n",
       "2                 TOP1  DNA replication        1046          Y  0.000100   \n",
       "3                 TOP1  DNA replication        1046          Y  0.000100   \n",
       "4                 TOP1  DNA replication        1046          Y  0.000100   \n",
       "...                ...              ...         ...        ...       ...   \n",
       "242031      Metabolism       Metabolism        1101          Y  2.001054   \n",
       "242032      Metabolism       Metabolism        1101          Y  2.001054   \n",
       "242033      Metabolism       Metabolism        1101          Y  2.001054   \n",
       "242034      Metabolism       Metabolism        1101          Y  2.001054   \n",
       "242035      Metabolism       Metabolism        1101          Y  2.001054   \n",
       "\n",
       "        MAX_CONC    LN_IC50       AUC      RMSE   Z_SCORE  \n",
       "0            0.1  -1.462148  0.930105  0.088999  0.432482  \n",
       "1            0.1  -4.869447  0.614932  0.111423 -1.420322  \n",
       "2            0.1  -3.360684  0.790953  0.142754 -0.599894  \n",
       "3            0.1  -5.045014  0.592624  0.135642 -1.515791  \n",
       "4            0.1  -3.741620  0.733992  0.128066 -0.807038  \n",
       "...          ...        ...       ...       ...       ...  \n",
       "242031    2000.0  10.134495  0.976798  0.074441  0.159946  \n",
       "242032    2000.0   8.575555  0.913182  0.057743 -1.626059  \n",
       "242033    2000.0  10.520666  0.974889  0.058094  0.602364  \n",
       "242034    2000.0  10.701430  0.970009  0.100980  0.809457  \n",
       "242035    2000.0  10.038769  0.966966  0.089022  0.050277  \n",
       "\n",
       "[242036 rows x 19 columns]"
      ]
     },
     "execution_count": 73,
     "metadata": {},
     "output_type": "execute_result"
    }
   ],
   "source": [
    "response"
   ]
  },
  {
   "cell_type": "code",
   "execution_count": 18,
   "id": "0e05e706",
   "metadata": {},
   "outputs": [
    {
     "name": "stdout",
     "output_type": "stream",
     "text": [
      "num cell lines: 969\n",
      "num drugs: 295\n"
     ]
    }
   ],
   "source": [
    "# basic info about response dataset\n",
    "print(\"num cell lines:\", len(response[\"CELL_LINE_NAME\"].unique()))\n",
    "print(\"num drugs:\", len(response[\"DRUG_ID\"].unique()))"
   ]
  },
  {
   "cell_type": "markdown",
   "id": "83414836",
   "metadata": {
    "deletable": false,
    "editable": false,
    "run_control": {
     "frozen": true
    }
   },
   "source": [
    "### Expression data"
   ]
  },
  {
   "cell_type": "code",
   "execution_count": 67,
   "id": "5362fe0e",
   "metadata": {},
   "outputs": [],
   "source": [
    "df = pd.read_csv(f\"{datadir}/{expr_fname}\", sep=\"\\t\")"
   ]
  },
  {
   "cell_type": "code",
   "execution_count": 12,
   "id": "a01d5d91",
   "metadata": {},
   "outputs": [
    {
     "data": {
      "text/plain": [
       "1020"
      ]
     },
     "execution_count": 12,
     "metadata": {},
     "output_type": "execute_result"
    }
   ],
   "source": [
    "len(df.columns)"
   ]
  },
  {
   "cell_type": "code",
   "execution_count": 13,
   "id": "a9d85f33",
   "metadata": {},
   "outputs": [
    {
     "data": {
      "text/plain": [
       "Index(['GENE_SYMBOLS', 'GENE_title', 'DATA.906826', 'DATA.687983',\n",
       "       'DATA.910927', 'DATA.1240138', 'DATA.1240139', 'DATA.906792',\n",
       "       'DATA.910688', 'DATA.1240135',\n",
       "       ...\n",
       "       'DATA.753584', 'DATA.907044', 'DATA.998184', 'DATA.908145',\n",
       "       'DATA.1659787', 'DATA.1298157', 'DATA.1480372', 'DATA.1298533',\n",
       "       'DATA.930299', 'DATA.905954.1'],\n",
       "      dtype='object', length=1020)"
      ]
     },
     "execution_count": 13,
     "metadata": {},
     "output_type": "execute_result"
    }
   ],
   "source": [
    "df.columns"
   ]
  },
  {
   "cell_type": "code",
   "execution_count": 34,
   "id": "9226b962",
   "metadata": {},
   "outputs": [
    {
     "data": {
      "text/plain": [
       "(17419, 17419, 17737)"
      ]
     },
     "execution_count": 34,
     "metadata": {},
     "output_type": "execute_result"
    }
   ],
   "source": [
    "len(df[\"GENE_SYMBOLS\"].dropna()), len(set(df[\"GENE_SYMBOLS\"].dropna())), len(df[\"GENE_SYMBOLS\"])"
   ]
  },
  {
   "cell_type": "markdown",
   "id": "19e87811",
   "metadata": {
    "deletable": false,
    "editable": false,
    "run_control": {
     "frozen": true
    }
   },
   "source": [
    "### Drug metadata"
   ]
  },
  {
   "cell_type": "code",
   "execution_count": 118,
   "id": "191ceb00",
   "metadata": {},
   "outputs": [],
   "source": [
    "cmpds = pd.read_csv(f\"{datadir}/{cmpds_fname}\")"
   ]
  },
  {
   "cell_type": "code",
   "execution_count": 119,
   "id": "a54f0c81",
   "metadata": {},
   "outputs": [
    {
     "data": {
      "text/plain": [
       "Index(['Drug Id', 'Name', 'Synonyms', 'Targets', 'Target pathway', 'PubCHEM',\n",
       "       'Datasets', 'number of cell lines', 'Screening site'],\n",
       "      dtype='object')"
      ]
     },
     "execution_count": 119,
     "metadata": {},
     "output_type": "execute_result"
    }
   ],
   "source": [
    "cmpds.columns"
   ]
  },
  {
   "cell_type": "code",
   "execution_count": 120,
   "id": "3575fcb0",
   "metadata": {},
   "outputs": [
    {
     "name": "stdout",
     "output_type": "stream",
     "text": [
      "186\n"
     ]
    }
   ],
   "source": [
    "# keep compounds with pubchem id\n",
    "cmpds = cmpds[cmpds[\"Datasets\"] == \"GDSC2\"]\n",
    "cmpds = cmpds[cmpds[\"PubCHEM\"].notna()]\n",
    "cmpds = cmpds[cmpds[\"PubCHEM\"] != \"None\"]\n",
    "cmpds = cmpds[cmpds[\"PubCHEM\"] != \"none\"]\n",
    "cmpds = cmpds[cmpds[\"PubCHEM\"] != \"several\"]\n",
    "cmpds[\"PubCHEM\"] = cmpds[\"PubCHEM\"].map(lambda f: f.split(\",\")[0])\n",
    "cmpds = cmpds.sort_values(by=\"PubCHEM\")\n",
    "print(len(cmpds))"
   ]
  },
  {
   "cell_type": "code",
   "execution_count": 130,
   "id": "1a70d5b7",
   "metadata": {},
   "outputs": [],
   "source": [
    "# read in pubchem additional info\n",
    "pubchem = pd.read_csv(pubchem_fname, header=None, names=[\"pubchem_id\", \"pubchem_json\"])\n",
    "pubchem_dict = {}\n",
    "for _, row in pubchem.iterrows():\n",
    "    pubchem_id = row[\"pubchem_id\"]\n",
    "    pubchem_json = row[\"pubchem_json\"]\n",
    "    pubchem_dict[pubchem_id] = json.loads(pubchem_json)"
   ]
  },
  {
   "cell_type": "code",
   "execution_count": 141,
   "id": "91abcd6c",
   "metadata": {
    "scrolled": true
   },
   "outputs": [],
   "source": [
    "# add smiles string\n",
    "cmpds[\"SMILES\"] = cmpds.apply(lambda r: pubchem_dict[int(r.to_dict()[\"PubCHEM\"])][\"canonical_smiles\"], axis=1)"
   ]
  },
  {
   "cell_type": "code",
   "execution_count": 143,
   "id": "77f00942",
   "metadata": {},
   "outputs": [
    {
     "data": {
      "text/html": [
       "<div>\n",
       "<style scoped>\n",
       "    .dataframe tbody tr th:only-of-type {\n",
       "        vertical-align: middle;\n",
       "    }\n",
       "\n",
       "    .dataframe tbody tr th {\n",
       "        vertical-align: top;\n",
       "    }\n",
       "\n",
       "    .dataframe thead th {\n",
       "        text-align: right;\n",
       "    }\n",
       "</style>\n",
       "<table border=\"1\" class=\"dataframe\">\n",
       "  <thead>\n",
       "    <tr style=\"text-align: right;\">\n",
       "      <th></th>\n",
       "      <th>Drug Id</th>\n",
       "      <th>Name</th>\n",
       "      <th>Synonyms</th>\n",
       "      <th>Targets</th>\n",
       "      <th>Target pathway</th>\n",
       "      <th>PubCHEM</th>\n",
       "      <th>Datasets</th>\n",
       "      <th>number of cell lines</th>\n",
       "      <th>Screening site</th>\n",
       "      <th>SMILES</th>\n",
       "    </tr>\n",
       "  </thead>\n",
       "  <tbody>\n",
       "    <tr>\n",
       "      <th>131</th>\n",
       "      <td>1037</td>\n",
       "      <td>BX795</td>\n",
       "      <td>BX-795</td>\n",
       "      <td>TBK1, PDK1 (PDPK1), IKK, AURKB, AURKC</td>\n",
       "      <td>Other, kinases</td>\n",
       "      <td>10077147</td>\n",
       "      <td>GDSC2</td>\n",
       "      <td>225</td>\n",
       "      <td>SANGER</td>\n",
       "      <td>C1CCN(C1)C(=O)NC2=CC=CC(=C2)NC3=NC=C(C(=N3)NCC...</td>\n",
       "    </tr>\n",
       "    <tr>\n",
       "      <th>385</th>\n",
       "      <td>1559</td>\n",
       "      <td>Luminespib</td>\n",
       "      <td>AUY922, VER-52296,NVP-AUY922,  AUY</td>\n",
       "      <td>HSP90</td>\n",
       "      <td>Protein stability and degradation</td>\n",
       "      <td>10096043</td>\n",
       "      <td>GDSC2</td>\n",
       "      <td>964</td>\n",
       "      <td>SANGER</td>\n",
       "      <td>CCNC(=O)C1=C(C(=C2C=C(C(=CC2=O)O)C(C)C)ON1)C3=...</td>\n",
       "    </tr>\n",
       "    <tr>\n",
       "      <th>565</th>\n",
       "      <td>1062</td>\n",
       "      <td>Selumetinib</td>\n",
       "      <td>AZD6244, AZD-6244, ARRY-886</td>\n",
       "      <td>MEK1, MEK2</td>\n",
       "      <td>ERK MAPK signaling</td>\n",
       "      <td>10127622</td>\n",
       "      <td>GDSC2</td>\n",
       "      <td>949</td>\n",
       "      <td>SANGER</td>\n",
       "      <td>CN1C=NC2=C1C=C(C(=C2F)NC3=C(C=C(C=C3)Br)Cl)C(=...</td>\n",
       "    </tr>\n",
       "    <tr>\n",
       "      <th>498</th>\n",
       "      <td>1635</td>\n",
       "      <td>Picolinici-acid</td>\n",
       "      <td>Picolinate</td>\n",
       "      <td>Inflammatory related</td>\n",
       "      <td>Other</td>\n",
       "      <td>1018</td>\n",
       "      <td>GDSC2</td>\n",
       "      <td>893</td>\n",
       "      <td>SANGER</td>\n",
       "      <td>C1=CC=NC(=C1)C(=O)O</td>\n",
       "    </tr>\n",
       "    <tr>\n",
       "      <th>85</th>\n",
       "      <td>1032</td>\n",
       "      <td>Afatinib</td>\n",
       "      <td>BIBW2992, Tovok, Gilotrif</td>\n",
       "      <td>EGFR, ERBB2</td>\n",
       "      <td>EGFR signaling</td>\n",
       "      <td>10184653</td>\n",
       "      <td>GDSC2</td>\n",
       "      <td>966</td>\n",
       "      <td>SANGER</td>\n",
       "      <td>CN(C)CC=CC(=O)NC1=C(C=C2C(=C1)C(=NC=N2)NC3=CC(...</td>\n",
       "    </tr>\n",
       "    <tr>\n",
       "      <th>...</th>\n",
       "      <td>...</td>\n",
       "      <td>...</td>\n",
       "      <td>...</td>\n",
       "      <td>...</td>\n",
       "      <td>...</td>\n",
       "      <td>...</td>\n",
       "      <td>...</td>\n",
       "      <td>...</td>\n",
       "      <td>...</td>\n",
       "      <td>...</td>\n",
       "    </tr>\n",
       "    <tr>\n",
       "      <th>186</th>\n",
       "      <td>1922</td>\n",
       "      <td>Cediranib</td>\n",
       "      <td>AZD2171, AZD 2171, AZD-2171, Recentin</td>\n",
       "      <td>VEGFR, FLT1, FLT2, FLT3, FLT4, KIT, PDGFRB</td>\n",
       "      <td>RTK signaling</td>\n",
       "      <td>9933475</td>\n",
       "      <td>GDSC2</td>\n",
       "      <td>958</td>\n",
       "      <td>SANGER</td>\n",
       "      <td>CC1=CC2=C(N1)C=CC(=C2F)OC3=NC=NC4=CC(=C(C=C43)...</td>\n",
       "    </tr>\n",
       "    <tr>\n",
       "      <th>444</th>\n",
       "      <td>1626</td>\n",
       "      <td>OTX015</td>\n",
       "      <td>Birabresib, OTX-015, MK-8628</td>\n",
       "      <td>BRD2, BRD3, BRD4</td>\n",
       "      <td>Chromatin other</td>\n",
       "      <td>9936746</td>\n",
       "      <td>GDSC2</td>\n",
       "      <td>893</td>\n",
       "      <td>SANGER</td>\n",
       "      <td>CC1=C(SC2=C1C(=NC(C3=NN=C(N32)C)CC(=O)NC4=CC=C...</td>\n",
       "    </tr>\n",
       "    <tr>\n",
       "      <th>221</th>\n",
       "      <td>1069</td>\n",
       "      <td>EHT-1864</td>\n",
       "      <td>EHT 1864</td>\n",
       "      <td>RAC1, RAC2, RAC3</td>\n",
       "      <td>Cytoskeleton</td>\n",
       "      <td>9938202</td>\n",
       "      <td>GDSC2</td>\n",
       "      <td>943</td>\n",
       "      <td>SANGER</td>\n",
       "      <td>C1COCCN1CC2=CC(=O)C(=CO2)OCCCCCSC3=C4C=CC(=CC4...</td>\n",
       "    </tr>\n",
       "    <tr>\n",
       "      <th>295</th>\n",
       "      <td>1023</td>\n",
       "      <td>GW441756</td>\n",
       "      <td>GW 441756</td>\n",
       "      <td>NTRK1</td>\n",
       "      <td>RTK signaling</td>\n",
       "      <td>9943465</td>\n",
       "      <td>GDSC2</td>\n",
       "      <td>953</td>\n",
       "      <td>SANGER</td>\n",
       "      <td>CN1C=C(C2=CC=CC=C21)C=C3C4=C(C=CC=N4)NC3=O</td>\n",
       "    </tr>\n",
       "    <tr>\n",
       "      <th>167</th>\n",
       "      <td>2175</td>\n",
       "      <td>CHIR-99021</td>\n",
       "      <td>CT 99021, CHIR99021, CHIR 99021</td>\n",
       "      <td>GSK3A, GSK3B</td>\n",
       "      <td>WNT signaling</td>\n",
       "      <td>9956119</td>\n",
       "      <td>GDSC2</td>\n",
       "      <td>225</td>\n",
       "      <td>SANGER</td>\n",
       "      <td>CC1=CN=C(N1)C2=CN=C(N=C2C3=C(C=C(C=C3)Cl)Cl)NC...</td>\n",
       "    </tr>\n",
       "  </tbody>\n",
       "</table>\n",
       "<p>186 rows × 10 columns</p>\n",
       "</div>"
      ],
      "text/plain": [
       "     Drug Id             Name                               Synonyms  \\\n",
       "131     1037            BX795                                 BX-795   \n",
       "385     1559       Luminespib     AUY922, VER-52296,NVP-AUY922,  AUY   \n",
       "565     1062      Selumetinib            AZD6244, AZD-6244, ARRY-886   \n",
       "498     1635  Picolinici-acid                             Picolinate   \n",
       "85      1032         Afatinib              BIBW2992, Tovok, Gilotrif   \n",
       "..       ...              ...                                    ...   \n",
       "186     1922        Cediranib  AZD2171, AZD 2171, AZD-2171, Recentin   \n",
       "444     1626           OTX015           Birabresib, OTX-015, MK-8628   \n",
       "221     1069         EHT-1864                               EHT 1864   \n",
       "295     1023         GW441756                              GW 441756   \n",
       "167     2175       CHIR-99021        CT 99021, CHIR99021, CHIR 99021   \n",
       "\n",
       "                                        Targets  \\\n",
       "131       TBK1, PDK1 (PDPK1), IKK, AURKB, AURKC   \n",
       "385                                       HSP90   \n",
       "565                                  MEK1, MEK2   \n",
       "498                        Inflammatory related   \n",
       "85                                  EGFR, ERBB2   \n",
       "..                                          ...   \n",
       "186  VEGFR, FLT1, FLT2, FLT3, FLT4, KIT, PDGFRB   \n",
       "444                            BRD2, BRD3, BRD4   \n",
       "221                            RAC1, RAC2, RAC3   \n",
       "295                                       NTRK1   \n",
       "167                                GSK3A, GSK3B   \n",
       "\n",
       "                        Target pathway   PubCHEM Datasets  \\\n",
       "131                     Other, kinases  10077147    GDSC2   \n",
       "385  Protein stability and degradation  10096043    GDSC2   \n",
       "565                 ERK MAPK signaling  10127622    GDSC2   \n",
       "498                              Other      1018    GDSC2   \n",
       "85                      EGFR signaling  10184653    GDSC2   \n",
       "..                                 ...       ...      ...   \n",
       "186                      RTK signaling   9933475    GDSC2   \n",
       "444                    Chromatin other   9936746    GDSC2   \n",
       "221                       Cytoskeleton   9938202    GDSC2   \n",
       "295                      RTK signaling   9943465    GDSC2   \n",
       "167                      WNT signaling   9956119    GDSC2   \n",
       "\n",
       "     number of cell lines Screening site  \\\n",
       "131                   225         SANGER   \n",
       "385                   964         SANGER   \n",
       "565                   949         SANGER   \n",
       "498                   893         SANGER   \n",
       "85                    966         SANGER   \n",
       "..                    ...            ...   \n",
       "186                   958         SANGER   \n",
       "444                   893         SANGER   \n",
       "221                   943         SANGER   \n",
       "295                   953         SANGER   \n",
       "167                   225         SANGER   \n",
       "\n",
       "                                                SMILES  \n",
       "131  C1CCN(C1)C(=O)NC2=CC=CC(=C2)NC3=NC=C(C(=N3)NCC...  \n",
       "385  CCNC(=O)C1=C(C(=C2C=C(C(=CC2=O)O)C(C)C)ON1)C3=...  \n",
       "565  CN1C=NC2=C1C=C(C(=C2F)NC3=C(C=C(C=C3)Br)Cl)C(=...  \n",
       "498                                C1=CC=NC(=C1)C(=O)O  \n",
       "85   CN(C)CC=CC(=O)NC1=C(C=C2C(=C1)C(=NC=N2)NC3=CC(...  \n",
       "..                                                 ...  \n",
       "186  CC1=CC2=C(N1)C=CC(=C2F)OC3=NC=NC4=CC(=C(C=C43)...  \n",
       "444  CC1=C(SC2=C1C(=NC(C3=NN=C(N32)C)CC(=O)NC4=CC=C...  \n",
       "221  C1COCCN1CC2=CC(=O)C(=CO2)OCCCCCSC3=C4C=CC(=CC4...  \n",
       "295         CN1C=C(C2=CC=CC=C21)C=C3C4=C(C=CC=N4)NC3=O  \n",
       "167  CC1=CN=C(N1)C2=CN=C(N=C2C3=C(C=C(C=C3)Cl)Cl)NC...  \n",
       "\n",
       "[186 rows x 10 columns]"
      ]
     },
     "execution_count": 143,
     "metadata": {},
     "output_type": "execute_result"
    }
   ],
   "source": [
    "cmpds"
   ]
  },
  {
   "cell_type": "markdown",
   "id": "4b091b10",
   "metadata": {
    "deletable": false,
    "editable": false,
    "run_control": {
     "frozen": true
    }
   },
   "source": [
    "## SMILES to fingerprint"
   ]
  },
  {
   "cell_type": "code",
   "execution_count": 148,
   "id": "a419575a",
   "metadata": {},
   "outputs": [],
   "source": [
    "# morgan fingerprint is awful; hash function is likely way too\n",
    "# difficult for a neural network to learn\n",
    "\n",
    "bx795_smiles = cmpds[\"SMILES\"].iloc[0]"
   ]
  },
  {
   "cell_type": "code",
   "execution_count": 150,
   "id": "d21c9bfe",
   "metadata": {},
   "outputs": [
    {
     "data": {
      "image/png": "[encoded data removed]",
      "text/plain": [
       "<rdkit.Chem.rdchem.Mol at 0x7fd1865fbcf0>"
      ]
     },
     "execution_count": 150,
     "metadata": {},
     "output_type": "execute_result"
    }
   ],
   "source": [
    "bx795 = Chem.MolFromSmiles(bx795_smiles)\n",
    "bx795"
   ]
  },
  {
   "cell_type": "code",
   "execution_count": 156,
   "id": "fb398d18",
   "metadata": {},
   "outputs": [],
   "source": [
    "bi = {}\n",
    "fcfp = AllChem.GetMorganFingerprint(bx795, 2, useFeatures=True, bitInfo=bi)"
   ]
  },
  {
   "cell_type": "code",
   "execution_count": 157,
   "id": "aae53369",
   "metadata": {},
   "outputs": [
    {
     "data": {
      "text/plain": [
       "{0: 10,\n",
       " 1: 2,\n",
       " 2: 2,\n",
       " 4: 14,\n",
       " 6: 3,\n",
       " 8: 1,\n",
       " 19: 2,\n",
       " 109741511: 1,\n",
       " 128222166: 1,\n",
       " 193992059: 2,\n",
       " 239857054: 1,\n",
       " 317524188: 1,\n",
       " 594405818: 1,\n",
       " 613660003: 1,\n",
       " 614173363: 1,\n",
       " 614176388: 1,\n",
       " 666422235: 1,\n",
       " 728919389: 1,\n",
       " 728953866: 1,\n",
       " 728998013: 1,\n",
       " 729011515: 1,\n",
       " 729011661: 1,\n",
       " 756873222: 1,\n",
       " 761943436: 1,\n",
       " 1021009427: 1,\n",
       " 1230563926: 1,\n",
       " 1230564256: 1,\n",
       " 1251070542: 1,\n",
       " 1562420499: 1,\n",
       " 1690641099: 1,\n",
       " 1907154955: 1,\n",
       " 2179844032: 1,\n",
       " 2716535440: 1,\n",
       " 2756354407: 1,\n",
       " 2873949288: 1,\n",
       " 3205496507: 1,\n",
       " 3205496824: 2,\n",
       " 3514530458: 1,\n",
       " 3532241538: 1,\n",
       " 3659792644: 1,\n",
       " 3660059448: 1,\n",
       " 3662079838: 1,\n",
       " 3701757961: 1,\n",
       " 3764335747: 3,\n",
       " 3764344801: 6,\n",
       " 3764344823: 2,\n",
       " 3766528779: 1,\n",
       " 3766528791: 1,\n",
       " 3766532888: 5,\n",
       " 3766532903: 1,\n",
       " 3766532917: 1,\n",
       " 3766665719: 1,\n",
       " 3766674798: 1,\n",
       " 4182664752: 1,\n",
       " 4203098518: 1,\n",
       " 4203103696: 2,\n",
       " 4203214599: 1}"
      ]
     },
     "execution_count": 157,
     "metadata": {},
     "output_type": "execute_result"
    }
   ],
   "source": [
    "fcfp.GetNonzeroElements()"
   ]
  },
  {
   "cell_type": "code",
   "execution_count": 159,
   "id": "016733d2",
   "metadata": {},
   "outputs": [
    {
     "data": {
      "image/png": "[encoded data removed]",
      "text/plain": [
       "<PIL.PngImagePlugin.PngImageFile image mode=RGB size=150x150>"
      ]
     },
     "execution_count": 159,
     "metadata": {},
     "output_type": "execute_result"
    }
   ],
   "source": [
    "Draw.DrawMorganBit(bx795, 3532241538, bi)"
   ]
  },
  {
   "cell_type": "code",
   "execution_count": 160,
   "id": "7c6eaf1f",
   "metadata": {},
   "outputs": [
    {
     "data": {
      "text/plain": [
       "{0: ((0, 0),\n",
       "  (1, 0),\n",
       "  (2, 0),\n",
       "  (3, 0),\n",
       "  (4, 0),\n",
       "  (5, 0),\n",
       "  (22, 0),\n",
       "  (23, 0),\n",
       "  (24, 0),\n",
       "  (26, 0)),\n",
       " 1: ((7, 0), (25, 0)),\n",
       " 2: ((6, 0), (27, 0)),\n",
       " 4: ((8, 0),\n",
       "  (9, 0),\n",
       "  (10, 0),\n",
       "  (11, 0),\n",
       "  (12, 0),\n",
       "  (13, 0),\n",
       "  (15, 0),\n",
       "  (17, 0),\n",
       "  (18, 0),\n",
       "  (19, 0),\n",
       "  (28, 0),\n",
       "  (29, 0),\n",
       "  (30, 0),\n",
       "  (31, 0)),\n",
       " 6: ((16, 0), (20, 0), (32, 0)),\n",
       " 8: ((33, 0),),\n",
       " 19: ((14, 0), (21, 0)),\n",
       " 109741511: ((25, 2),),\n",
       " 128222166: ((15, 2),),\n",
       " 193992059: ((2, 2), (4, 2)),\n",
       " 239857054: ((12, 2),),\n",
       " 317524188: ((18, 2),),\n",
       " 594405818: ((28, 1),),\n",
       " 613660003: ((26, 1),),\n",
       " 614173363: ((5, 1),),\n",
       " 614176388: ((3, 1),),\n",
       " 666422235: ((20, 2),),\n",
       " 728919389: ((18, 1),),\n",
       " 728953866: ((8, 1),),\n",
       " 728998013: ((15, 1),),\n",
       " 729011515: ((12, 1),),\n",
       " 729011661: ((19, 1),),\n",
       " 756873222: ((21, 2),),\n",
       " 761943436: ((13, 2),),\n",
       " 1021009427: ((3, 2),),\n",
       " 1230563926: ((10, 2),),\n",
       " 1230564256: ((30, 2),),\n",
       " 1251070542: ((31, 2),),\n",
       " 1562420499: ((28, 2),),\n",
       " 1690641099: ((14, 2),),\n",
       " 1907154955: ((7, 2),),\n",
       " 2179844032: ((19, 2),),\n",
       " 2716535440: ((8, 2),),\n",
       " 2756354407: ((26, 2),),\n",
       " 2873949288: ((5, 2),),\n",
       " 3205496507: ((33, 1),),\n",
       " 3205496824: ((6, 1), (27, 1)),\n",
       " 3514530458: ((32, 2),),\n",
       " 3532241538: ((29, 2),),\n",
       " 3659792644: ((17, 2),),\n",
       " 3660059448: ((11, 2),),\n",
       " 3662079838: ((9, 2),),\n",
       " 3701757961: ((16, 2),),\n",
       " 3764335747: ((16, 1), (20, 1), (32, 1)),\n",
       " 3764344801: ((9, 1), (10, 1), (11, 1), (29, 1), (30, 1), (13, 1)),\n",
       " 3764344823: ((17, 1), (31, 1)),\n",
       " 3766528779: ((25, 1),),\n",
       " 3766528791: ((7, 1),),\n",
       " 3766532888: ((1, 1), (2, 1), (23, 1), (0, 1), (4, 1)),\n",
       " 3766532903: ((24, 1),),\n",
       " 3766532917: ((22, 1),),\n",
       " 3766665719: ((14, 1),),\n",
       " 3766674798: ((21, 1),),\n",
       " 4182664752: ((24, 2),),\n",
       " 4203098518: ((23, 2),),\n",
       " 4203103696: ((1, 2), (0, 2)),\n",
       " 4203214599: ((22, 2),)}"
      ]
     },
     "execution_count": 160,
     "metadata": {},
     "output_type": "execute_result"
    }
   ],
   "source": [
    "bi"
   ]
  },
  {
   "cell_type": "markdown",
   "id": "e3d644d9",
   "metadata": {
    "deletable": false,
    "editable": false,
    "run_control": {
     "frozen": true
    }
   },
   "source": [
    "## Create training data\n",
    "\n",
    "- for every cell line/drug IC50 measurement:\n",
    "  - inputs: gene expression data; compound fingerprint\n",
    "  - output: IC50 value"
   ]
  },
  {
   "cell_type": "markdown",
   "id": "ef8d2dc3",
   "metadata": {
    "deletable": false,
    "editable": false,
    "run_control": {
     "frozen": true
    }
   },
   "source": [
    "## Model architecture\n",
    "\n",
    "- inputs\n",
    "  - fingerprints\n",
    "    - key/count encoder\n",
    "    - all key/count vectors added together\n",
    "  - gene expression\n",
    "    - 17419 inputs (i.e. # genes with gene symbol)\n",
    "- overall architecture\n",
    "  - deep feedforward network\n",
    "  - eventually: attention network\n",
    "- output\n",
    "  - single prediction (float)"
   ]
  },
  {
   "cell_type": "code",
   "execution_count": null,
   "id": "1021e4e2",
   "metadata": {},
   "outputs": [],
   "source": []
  }
 ],
 "metadata": {
  "kernelspec": {
   "display_name": "Python 3 (ipykernel)",
   "language": "python",
   "name": "python3"
  },
  "language_info": {
   "codemirror_mode": {
    "name": "ipython",
    "version": 3
   },
   "file_extension": ".py",
   "mimetype": "text/x-python",
   "name": "python",
   "nbconvert_exporter": "python",
   "pygments_lexer": "ipython3",
   "version": "3.9.15"
  }
 },
 "nbformat": 4,
 "nbformat_minor": 5
}
