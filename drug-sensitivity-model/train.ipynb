{
 "cells": [
  {
   "cell_type": "code",
   "execution_count": 1,
   "id": "4f53c2ef",
   "metadata": {},
   "outputs": [],
   "source": [
    "import pickle\n",
    "from datetime import datetime\n",
    "\n",
    "from tqdm import tqdm\n",
    "\n",
    "import torch\n",
    "import torch.nn as nn\n",
    "import torch.nn.functional as F\n",
    "import torch.optim as optim\n",
    "from torch.utils.data import Dataset, DataLoader\n",
    "\n",
    "from torch_geometric.nn import GCNConv, global_mean_pool\n",
    "from torch_geometric.data import Data, Batch"
   ]
  },
  {
   "cell_type": "code",
   "execution_count": 2,
   "id": "88cedbfe",
   "metadata": {},
   "outputs": [],
   "source": [
    "# dataset\n",
    "class SensitivityDataset(Dataset):\n",
    "    def __init__(self, sensitivity_data, cell_line_to_gene_expr, drug_to_features):\n",
    "        # cell_line_to_gene_expr: dict<cosmic_id -> gene expr>\n",
    "        # sensitivity_data: DataFrame<cosmic_id, drug_id, ln_ic50>\n",
    "        # drug_to_features: dict<drug_id -> molecular features>\n",
    "        \n",
    "        self.sensitivity_data = sensitivity_data\n",
    "        self.cell_line_to_gene_expr = cell_line_to_gene_expr\n",
    "        self.drug_to_features = drug_to_features\n",
    "        \n",
    "    @staticmethod\n",
    "    def collate(batch_list):\n",
    "        gexpr_batch = torch.tensor([i[0][0] for i in batch_list])\n",
    "        molgraphs = [i[0][1] for i in batch_list]\n",
    "        molgraph_batch = Batch.from_data_list(molgraphs)\n",
    "        targets = torch.tensor([i[1] for i in batch_list]).float()\n",
    "        \n",
    "        return (gexpr_batch, molgraph_batch), targets\n",
    "        \n",
    "    \n",
    "    def __len__(self):\n",
    "        return len(self.sensitivity_data)\n",
    "    \n",
    "    def __getitem__(self, idx):\n",
    "        row = self.sensitivity_data.iloc[idx]\n",
    "        cell_line = row[\"cosmic_id\"]\n",
    "        # make gene expr\n",
    "        gexpr = self.cell_line_to_gene_expr[cell_line]\n",
    "        \n",
    "        # make drug\n",
    "        drug_id = row[\"drug_id\"]\n",
    "        atoms = torch.tensor(self.drug_to_features[drug_id][\"atoms\"]).float()\n",
    "        bonds = torch.tensor(self.drug_to_features[drug_id][\"bonds\"])\n",
    "        mol_graph = Data(x=atoms, edge_index=bonds)\n",
    "        \n",
    "        \n",
    "        ln_ic50 = row[\"ln_IC50\"]\n",
    "        return (gexpr, mol_graph), ln_ic50\n"
   ]
  },
  {
   "cell_type": "code",
   "execution_count": 3,
   "id": "56815338",
   "metadata": {},
   "outputs": [],
   "source": [
    "with open(\"./drug_response_with_cell_line.pkl\", \"rb\") as fin:\n",
    "    sensitivity_data = pickle.load(fin)\n",
    "    \n",
    "with open(\"./cell_line_gexpr.pkl\", \"rb\") as fin:\n",
    "    cell_line_to_gene_expr = pickle.load(fin)\n",
    "    \n",
    "with open(\"./drugid_to_molecular_graphs.pkl\", \"rb\") as fin:\n",
    "    drug_to_features = pickle.load(fin)\n",
    "    \n",
    "dataset = SensitivityDataset(sensitivity_data, cell_line_to_gene_expr, drug_to_features)\n",
    "train_loader = DataLoader(dataset, batch_size=64, collate_fn=SensitivityDataset.collate)"
   ]
  },
  {
   "cell_type": "code",
   "execution_count": 4,
   "id": "130383cd",
   "metadata": {},
   "outputs": [],
   "source": [
    "# molecule encoder\n",
    "class ResGCNConv(nn.Module):\n",
    "    def __init__(self, in_dim, hidden_dim, out_dim):\n",
    "        super().__init__()\n",
    "        self.conv1 = GCNConv(in_dim, hidden_dim)\n",
    "        self.conv2 = GCNConv(hidden_dim, out_dim)\n",
    "\n",
    "    def forward(self, x, edge_index):\n",
    "        out = F.relu(self.conv1(x, edge_index))\n",
    "        out = self.conv2(out, edge_index)\n",
    "        out += x\n",
    "        \n",
    "        return F.relu(out)\n",
    "\n",
    "class MoleculeEncoder(nn.Module):\n",
    "    def __init__(self, in_features, out_features):\n",
    "        super().__init__()\n",
    "        \n",
    "        self.in_features = in_features\n",
    "        self.out_features = out_features\n",
    "        \n",
    "        self.conv1 = ResGCNConv(in_features, 32, 32)\n",
    "        self.conv2 = ResGCNConv(32, 32, 32)\n",
    "        self.conv3 = ResGCNConv(32, 32, 32)\n",
    "        self.lin = nn.Linear(32, out_features)\n",
    "    \n",
    "    def forward(self, x, edge_index, batch):\n",
    "        # x is node features\n",
    "        # edge_index is connectivity\n",
    "        # batch assigns each node to its graph index\n",
    "        \n",
    "        x = F.relu(self.conv1(x, edge_index))\n",
    "        x = F.dropout(x, training=self.training)\n",
    "        x = F.relu(self.conv2(x, edge_index))\n",
    "        x = F.dropout(x, training=self.training)\n",
    "        x = F.relu(self.conv3(x, edge_index))\n",
    "        \n",
    "        # takes the average over all node embeddings\n",
    "        # if we implement this ourselves, we need to account for batch\n",
    "        # it's not automatic\n",
    "        x = global_mean_pool(x, batch)\n",
    "        x = F.dropout(x, training=self.training)\n",
    "        x = self.lin(x)\n",
    "        \n",
    "        return x"
   ]
  },
  {
   "cell_type": "code",
   "execution_count": 5,
   "id": "716f9c6b",
   "metadata": {},
   "outputs": [],
   "source": [
    "# sensitivity model\n",
    "class SensitivityPredictor(nn.Module):\n",
    "    def __init__(self, mol_dim, num_genes):\n",
    "        super().__init__()\n",
    "        self.mol_dim = mol_dim\n",
    "        self.num_genes = num_genes\n",
    "        \n",
    "        self.mol_encoder = MoleculeEncoder(1, mol_dim)\n",
    "        self.lin1 = nn.Linear(mol_dim + num_genes, 1024)\n",
    "        self.lin2 = nn.Linear(1024, 1024)\n",
    "        self.lin3 = nn.Linear(1024, 1024)\n",
    "        self.lin4 = nn.Linear(1024, 1)\n",
    "    \n",
    "    def forward(self, gexprs, molgraphs):\n",
    "        molembed = self.mol_encoder(molgraphs.x, molgraphs.edge_index, molgraphs.batch)\n",
    "        \n",
    "        inputs = torch.cat((gexprs, molembed), dim=1)\n",
    "        \n",
    "        out = F.relu(self.lin1(inputs))\n",
    "        out = F.relu(self.lin2(out))\n",
    "        out = F.relu(self.lin3(out))\n",
    "        out = self.lin4(out)\n",
    "        \n",
    "        return out"
   ]
  },
  {
   "cell_type": "code",
   "execution_count": null,
   "id": "098c0f33",
   "metadata": {},
   "outputs": [
    {
     "name": "stderr",
     "output_type": "stream",
     "text": [
      "100%|██████████████████████████████████████████████████████████████████████████████████████████████████| 2462/2462 [05:49<00:00,  7.04it/s]\n"
     ]
    },
    {
     "name": "stdout",
     "output_type": "stream",
     "text": [
      "Epoch 1, Loss 4.230546266845239\n"
     ]
    },
    {
     "name": "stderr",
     "output_type": "stream",
     "text": [
      "100%|██████████████████████████████████████████████████████████████████████████████████████████████████| 2462/2462 [05:54<00:00,  6.94it/s]\n"
     ]
    },
    {
     "name": "stdout",
     "output_type": "stream",
     "text": [
      "Epoch 2, Loss 4.0783454840208435\n"
     ]
    },
    {
     "name": "stderr",
     "output_type": "stream",
     "text": [
      "100%|██████████████████████████████████████████████████████████████████████████████████████████████████| 2462/2462 [05:39<00:00,  7.26it/s]\n"
     ]
    },
    {
     "name": "stdout",
     "output_type": "stream",
     "text": [
      "Epoch 3, Loss 4.138997038116695\n"
     ]
    },
    {
     "name": "stderr",
     "output_type": "stream",
     "text": [
      "100%|██████████████████████████████████████████████████████████████████████████████████████████████████| 2462/2462 [05:33<00:00,  7.38it/s]\n"
     ]
    },
    {
     "name": "stdout",
     "output_type": "stream",
     "text": [
      "Epoch 4, Loss 4.221025628652832\n"
     ]
    },
    {
     "name": "stderr",
     "output_type": "stream",
     "text": [
      "100%|██████████████████████████████████████████████████████████████████████████████████████████████████| 2462/2462 [05:39<00:00,  7.24it/s]\n"
     ]
    },
    {
     "name": "stdout",
     "output_type": "stream",
     "text": [
      "Epoch 5, Loss 4.2691875374070225\n"
     ]
    },
    {
     "name": "stderr",
     "output_type": "stream",
     "text": [
      "100%|██████████████████████████████████████████████████████████████████████████████████████████████████| 2462/2462 [05:52<00:00,  6.99it/s]\n"
     ]
    },
    {
     "name": "stdout",
     "output_type": "stream",
     "text": [
      "Epoch 6, Loss 4.327807359209785\n"
     ]
    },
    {
     "name": "stderr",
     "output_type": "stream",
     "text": [
      "100%|██████████████████████████████████████████████████████████████████████████████████████████████████| 2462/2462 [05:52<00:00,  6.99it/s]\n"
     ]
    },
    {
     "name": "stdout",
     "output_type": "stream",
     "text": [
      "Epoch 7, Loss 4.371401286326125\n"
     ]
    },
    {
     "name": "stderr",
     "output_type": "stream",
     "text": [
      "100%|██████████████████████████████████████████████████████████████████████████████████████████████████| 2462/2462 [05:43<00:00,  7.16it/s]\n"
     ]
    },
    {
     "name": "stdout",
     "output_type": "stream",
     "text": [
      "Epoch 8, Loss 4.394797689056706\n"
     ]
    },
    {
     "name": "stderr",
     "output_type": "stream",
     "text": [
      "100%|██████████████████████████████████████████████████████████████████████████████████████████████████| 2462/2462 [05:44<00:00,  7.14it/s]\n"
     ]
    },
    {
     "name": "stdout",
     "output_type": "stream",
     "text": [
      "Epoch 9, Loss 4.41694265160979\n"
     ]
    },
    {
     "name": "stderr",
     "output_type": "stream",
     "text": [
      "100%|██████████████████████████████████████████████████████████████████████████████████████████████████| 2462/2462 [05:44<00:00,  7.15it/s]\n"
     ]
    },
    {
     "name": "stdout",
     "output_type": "stream",
     "text": [
      "Epoch 10, Loss 4.429586764288859\n"
     ]
    },
    {
     "name": "stderr",
     "output_type": "stream",
     "text": [
      "100%|██████████████████████████████████████████████████████████████████████████████████████████████████| 2462/2462 [05:41<00:00,  7.22it/s]\n"
     ]
    },
    {
     "name": "stdout",
     "output_type": "stream",
     "text": [
      "Epoch 11, Loss 4.453223350145389\n"
     ]
    },
    {
     "name": "stderr",
     "output_type": "stream",
     "text": [
      "100%|██████████████████████████████████████████████████████████████████████████████████████████████████| 2462/2462 [05:43<00:00,  7.16it/s]\n"
     ]
    },
    {
     "name": "stdout",
     "output_type": "stream",
     "text": [
      "Epoch 12, Loss 4.461088494870548\n"
     ]
    },
    {
     "name": "stderr",
     "output_type": "stream",
     "text": [
      " 97%|███████████████████████████████████████████████████████████████████████████████████████████████   | 2389/2462 [05:37<00:09,  7.54it/s]"
     ]
    }
   ],
   "source": [
    "def training_loop(model, optimizer, num_epochs):\n",
    "    for epoch in range(1, num_epochs + 1):\n",
    "        total_loss = 0\n",
    "        num_batches = 0\n",
    "        \n",
    "        for (gexprs, molgraphs), target in tqdm(train_loader):\n",
    "            pred = model(gexprs, molgraphs).squeeze()\n",
    "            \n",
    "            optimizer.zero_grad()\n",
    "            loss = F.mse_loss(pred, target)\n",
    "            loss.backward()\n",
    "            optimizer.step()\n",
    "            \n",
    "            num_batches += 1\n",
    "            total_loss += loss.detach().item()\n",
    "        \n",
    "        avg_loss = total_loss / num_batches\n",
    "        \n",
    "        print(f\"Epoch {epoch}, Loss {avg_loss}\")\n",
    "        \n",
    "model = SensitivityPredictor(32, 17419)\n",
    "optimizer = optim.SGD(model.parameters(), lr=3e-5)\n",
    "# 3e-5: 4.8\n",
    "training_loop(model, optimizer, 100)"
   ]
  },
  {
   "cell_type": "code",
   "execution_count": null,
   "id": "2ac49cf8",
   "metadata": {},
   "outputs": [],
   "source": []
  },
  {
   "cell_type": "code",
   "execution_count": null,
   "id": "ce230058",
   "metadata": {},
   "outputs": [],
   "source": []
  }
 ],
 "metadata": {
  "kernelspec": {
   "display_name": "Python 3 (ipykernel)",
   "language": "python",
   "name": "python3"
  },
  "language_info": {
   "codemirror_mode": {
    "name": "ipython",
    "version": 3
   },
   "file_extension": ".py",
   "mimetype": "text/x-python",
   "name": "python",
   "nbconvert_exporter": "python",
   "pygments_lexer": "ipython3",
   "version": "3.9.15"
  }
 },
 "nbformat": 4,
 "nbformat_minor": 5
}
