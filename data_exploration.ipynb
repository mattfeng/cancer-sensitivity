{
 "cells": [
  {
   "cell_type": "markdown",
   "id": "74319749",
   "metadata": {
    "deletable": false,
    "editable": false,
    "run_control": {
     "frozen": true
    }
   },
   "source": [
    "# Exploring the NCI-DREAM dataset"
   ]
  },
  {
   "cell_type": "markdown",
   "id": "8b2e311f",
   "metadata": {
    "deletable": false,
    "editable": false,
    "run_control": {
     "frozen": true
    }
   },
   "source": [
    "## imports"
   ]
  },
  {
   "cell_type": "code",
   "execution_count": 64,
   "id": "30caed9f",
   "metadata": {},
   "outputs": [],
   "source": [
    "import pandas as pd\n",
    "import matplotlib.pyplot as plt"
   ]
  },
  {
   "cell_type": "code",
   "execution_count": 29,
   "id": "b20aa0e1",
   "metadata": {},
   "outputs": [],
   "source": [
    "datadir = \"/Volumes/OXYTOCIN/datasets/nci-dream/DrugSensitivity1\"\n",
    "drug_sensitivity_fname = \"Drug_Response_Training.txt\"\n",
    "predictions_fname = \"Predictions.csv\"\n",
    "gene_expr_fname = \"GeneExpression.txt\"\n",
    "rnaseq_fname = \"RNAseq_quantification.txt\""
   ]
  },
  {
   "cell_type": "markdown",
   "id": "0e6c2bb7",
   "metadata": {
    "deletable": false,
    "editable": false,
    "run_control": {
     "frozen": true
    }
   },
   "source": [
    "## submission file"
   ]
  },
  {
   "cell_type": "code",
   "execution_count": 11,
   "id": "10a28762",
   "metadata": {},
   "outputs": [],
   "source": [
    "predictions = pd.read_csv(f\"{datadir}/{predictions_fname}\")"
   ]
  },
  {
   "cell_type": "code",
   "execution_count": 14,
   "id": "906e9f84",
   "metadata": {},
   "outputs": [
    {
     "name": "stdout",
     "output_type": "stream",
     "text": [
      "53\n"
     ]
    }
   ],
   "source": [
    "all_cell_lines = list(predictions[\"DrugAnonID\"])\n",
    "print(len(all_cell_lines))"
   ]
  },
  {
   "cell_type": "markdown",
   "id": "362e608e",
   "metadata": {
    "deletable": false,
    "editable": false,
    "run_control": {
     "frozen": true
    }
   },
   "source": [
    "## drug sensitivity (GI50) target data"
   ]
  },
  {
   "cell_type": "code",
   "execution_count": 16,
   "id": "5ab5dd77",
   "metadata": {},
   "outputs": [],
   "source": [
    "drug_sensitivity = pd.read_csv(f\"{datadir}/{drug_sensitivity_fname}\", sep=\"\\t\")"
   ]
  },
  {
   "cell_type": "code",
   "execution_count": 48,
   "id": "ff9e5fa6",
   "metadata": {},
   "outputs": [
    {
     "name": "stdout",
     "output_type": "stream",
     "text": [
      "35\n"
     ]
    }
   ],
   "source": [
    "training_cell_lines = list(drug_sensitivity[\"CellLine\"])\n",
    "print(len(training_cell_lines))"
   ]
  },
  {
   "cell_type": "code",
   "execution_count": 59,
   "id": "097a948a",
   "metadata": {},
   "outputs": [
    {
     "name": "stdout",
     "output_type": "stream",
     "text": [
      "18\n"
     ]
    }
   ],
   "source": [
    "test_cell_lines = list(set(all_cell_lines) - set(training_cell_lines))\n",
    "print(len(test_cell_lines))"
   ]
  },
  {
   "cell_type": "code",
   "execution_count": 61,
   "id": "8270c532",
   "metadata": {},
   "outputs": [
    {
     "name": "stdout",
     "output_type": "stream",
     "text": [
      "count    30.000000\n",
      "mean      4.891033\n",
      "std       0.475655\n",
      "min       3.777000\n",
      "25%       4.718000\n",
      "50%       4.901500\n",
      "75%       5.101500\n",
      "max       6.432000\n",
      "Name: Drug1, dtype: float64\n",
      "\n",
      "count    30.000000\n",
      "mean      4.941733\n",
      "std       0.445811\n",
      "min       3.777000\n",
      "25%       4.732500\n",
      "50%       4.963000\n",
      "75%       5.215500\n",
      "max       6.180000\n",
      "Name: Drug2, dtype: float64\n",
      "\n",
      "count    34.000000\n",
      "mean      4.288912\n",
      "std       0.315926\n",
      "min       3.777000\n",
      "25%       4.070000\n",
      "50%       4.312000\n",
      "75%       4.455500\n",
      "max       4.939000\n",
      "Name: Drug3, dtype: float64\n",
      "\n",
      "count    20.000000\n",
      "mean      7.054700\n",
      "std       0.385391\n",
      "min       6.421000\n",
      "25%       6.830750\n",
      "50%       7.084500\n",
      "75%       7.334750\n",
      "max       7.879000\n",
      "Name: Drug4, dtype: float64\n",
      "\n",
      "count    33.000000\n",
      "mean      6.165788\n",
      "std       0.010271\n",
      "min       6.164000\n",
      "25%       6.164000\n",
      "50%       6.164000\n",
      "75%       6.164000\n",
      "max       6.223000\n",
      "Name: Drug5, dtype: float64\n",
      "\n",
      "count    16.000000\n",
      "mean      5.119500\n",
      "std       0.302155\n",
      "min       4.863000\n",
      "25%       4.887250\n",
      "50%       5.009500\n",
      "75%       5.238000\n",
      "max       5.777000\n",
      "Name: Drug6, dtype: float64\n",
      "\n",
      "count    33.000000\n",
      "mean      5.668697\n",
      "std       1.210143\n",
      "min       4.176000\n",
      "25%       4.452000\n",
      "50%       5.851000\n",
      "75%       6.893000\n",
      "max       7.301000\n",
      "Name: Drug7, dtype: float64\n",
      "\n",
      "count    30.000000\n",
      "mean      7.018767\n",
      "std       0.667307\n",
      "min       6.263000\n",
      "25%       6.646500\n",
      "50%       6.930500\n",
      "75%       7.251000\n",
      "max       9.833000\n",
      "Name: Drug8, dtype: float64\n",
      "\n",
      "count    31.000000\n",
      "mean      4.395710\n",
      "std       0.343882\n",
      "min       4.000000\n",
      "25%       4.000000\n",
      "50%       4.478000\n",
      "75%       4.563000\n",
      "max       5.230000\n",
      "Name: Drug9, dtype: float64\n",
      "\n",
      "count    28.000000\n",
      "mean      6.242607\n",
      "std       1.307377\n",
      "min       4.267000\n",
      "25%       5.043750\n",
      "50%       6.052000\n",
      "75%       7.497500\n",
      "max       8.401000\n",
      "Name: Drug10, dtype: float64\n",
      "\n",
      "count    33.000000\n",
      "mean      4.349879\n",
      "std       0.151571\n",
      "min       4.176000\n",
      "25%       4.176000\n",
      "50%       4.478000\n",
      "75%       4.478000\n",
      "max       4.478000\n",
      "Name: Drug11, dtype: float64\n",
      "\n",
      "count    17.000000\n",
      "mean      4.525765\n",
      "std       0.196939\n",
      "min       4.478000\n",
      "25%       4.478000\n",
      "50%       4.478000\n",
      "75%       4.478000\n",
      "max       5.290000\n",
      "Name: Drug12, dtype: float64\n",
      "\n",
      "count    15.000000\n",
      "mean      4.589067\n",
      "std       0.430159\n",
      "min       4.478000\n",
      "25%       4.478000\n",
      "50%       4.478000\n",
      "75%       4.478000\n",
      "max       6.144000\n",
      "Name: Drug13, dtype: float64\n",
      "\n",
      "count    22.000000\n",
      "mean      5.452864\n",
      "std       0.863299\n",
      "min       5.143000\n",
      "25%       5.143000\n",
      "50%       5.143000\n",
      "75%       5.143000\n",
      "max       8.870000\n",
      "Name: Drug14, dtype: float64\n",
      "\n",
      "count    30.000000\n",
      "mean      5.471900\n",
      "std       0.226972\n",
      "min       5.090000\n",
      "25%       5.315000\n",
      "50%       5.431500\n",
      "75%       5.563000\n",
      "max       5.996000\n",
      "Name: Drug15, dtype: float64\n",
      "\n",
      "count    34.000000\n",
      "mean      4.726676\n",
      "std       0.336102\n",
      "min       3.818000\n",
      "25%       4.560250\n",
      "50%       4.731000\n",
      "75%       4.817250\n",
      "max       5.807000\n",
      "Name: Drug16, dtype: float64\n",
      "\n",
      "count    34.000000\n",
      "mean      6.012706\n",
      "std       0.715833\n",
      "min       4.176000\n",
      "25%       5.660000\n",
      "50%       6.290000\n",
      "75%       6.491750\n",
      "max       6.959000\n",
      "Name: Drug17, dtype: float64\n",
      "\n",
      "count    27.000000\n",
      "mean      3.252185\n",
      "std       0.623122\n",
      "min       2.517000\n",
      "25%       2.871500\n",
      "50%       2.996000\n",
      "75%       3.473500\n",
      "max       5.373000\n",
      "Name: Drug18, dtype: float64\n",
      "\n",
      "count    32.000000\n",
      "mean      6.760344\n",
      "std       0.255915\n",
      "min       6.256000\n",
      "25%       6.612750\n",
      "50%       6.733500\n",
      "75%       6.971000\n",
      "max       7.315000\n",
      "Name: Drug19, dtype: float64\n",
      "\n",
      "count    35.000000\n",
      "mean      4.979486\n",
      "std       0.306227\n",
      "min       4.478000\n",
      "25%       4.820000\n",
      "50%       4.987000\n",
      "75%       5.148500\n",
      "max       5.738000\n",
      "Name: Drug20, dtype: float64\n",
      "\n",
      "count    33.000000\n",
      "mean      3.737848\n",
      "std       0.120908\n",
      "min       3.699000\n",
      "25%       3.699000\n",
      "50%       3.699000\n",
      "75%       3.699000\n",
      "max       4.213000\n",
      "Name: Drug21, dtype: float64\n",
      "\n",
      "count    32.000000\n",
      "mean      5.266063\n",
      "std       0.173716\n",
      "min       4.951000\n",
      "25%       5.180750\n",
      "50%       5.229000\n",
      "75%       5.323750\n",
      "max       5.719000\n",
      "Name: Drug22, dtype: float64\n",
      "\n",
      "count    32.000000\n",
      "mean      4.491563\n",
      "std       0.379210\n",
      "min       4.176000\n",
      "25%       4.245000\n",
      "50%       4.478000\n",
      "75%       4.478000\n",
      "max       6.250000\n",
      "Name: Drug23, dtype: float64\n",
      "\n",
      "count    34.000000\n",
      "mean      2.725176\n",
      "std       0.006860\n",
      "min       2.724000\n",
      "25%       2.724000\n",
      "50%       2.724000\n",
      "75%       2.724000\n",
      "max       2.764000\n",
      "Name: Drug24, dtype: float64\n",
      "\n",
      "count    17.000000\n",
      "mean      5.868882\n",
      "std       1.458270\n",
      "min       4.478000\n",
      "25%       4.478000\n",
      "50%       4.932000\n",
      "75%       7.259000\n",
      "max       8.231000\n",
      "Name: Drug25, dtype: float64\n",
      "\n",
      "count    3.400000e+01\n",
      "mean     5.478000e+00\n",
      "std      9.015352e-16\n",
      "min      5.478000e+00\n",
      "25%      5.478000e+00\n",
      "50%      5.478000e+00\n",
      "75%      5.478000e+00\n",
      "max      5.478000e+00\n",
      "Name: Drug26, dtype: float64\n",
      "\n",
      "count    17.000000\n",
      "mean      4.595706\n",
      "std       0.342545\n",
      "min       4.478000\n",
      "25%       4.478000\n",
      "50%       4.478000\n",
      "75%       4.478000\n",
      "max       5.714000\n",
      "Name: Drug27, dtype: float64\n",
      "\n",
      "count    33.000000\n",
      "mean      4.032303\n",
      "std       0.230769\n",
      "min       3.876000\n",
      "25%       3.876000\n",
      "50%       3.876000\n",
      "75%       4.176000\n",
      "max       4.573000\n",
      "Name: Drug28, dtype: float64\n",
      "\n",
      "count    33.000000\n",
      "mean      2.743091\n",
      "std       0.249615\n",
      "min       2.160000\n",
      "25%       2.572000\n",
      "50%       2.762000\n",
      "75%       2.963000\n",
      "max       3.147000\n",
      "Name: Drug29, dtype: float64\n",
      "\n",
      "count    28.000000\n",
      "mean      6.643000\n",
      "std       0.332288\n",
      "min       5.780000\n",
      "25%       6.489500\n",
      "50%       6.582000\n",
      "75%       6.859500\n",
      "max       7.315000\n",
      "Name: Drug30, dtype: float64\n",
      "\n",
      "count    29.000000\n",
      "mean      6.304000\n",
      "std       0.367412\n",
      "min       5.616000\n",
      "25%       6.168000\n",
      "50%       6.265000\n",
      "75%       6.439000\n",
      "max       7.428000\n",
      "Name: Drug31, dtype: float64\n",
      "\n"
     ]
    }
   ],
   "source": [
    "# calculate drug sensitivity distributions\n",
    "# min = least effective\n",
    "# max = most effective\n",
    "drug_sensitivity_stats = drug_sensitivity.describe()\n",
    "for i in range(1, 32):\n",
    "    print(drug_sensitivity_stats[f\"Drug{i}\"])\n",
    "    print()"
   ]
  },
  {
   "cell_type": "code",
   "execution_count": 91,
   "id": "6e8fe90e",
   "metadata": {},
   "outputs": [
    {
     "name": "stderr",
     "output_type": "stream",
     "text": [
      "/var/folders/7w/41msfz292s3ff286j1sghb500000gn/T/ipykernel_92981/2709860673.py:1: FutureWarning: Dropping of nuisance columns in DataFrame reductions (with 'numeric_only=None') is deprecated; in a future version this will raise TypeError.  Select only valid columns before calling the reduction.\n",
      "  drug_sensitivity.max(axis=1).max(), drug_sensitivity.min(axis=1).min(), len(drug_sensitivity)\n"
     ]
    },
    {
     "data": {
      "text/plain": [
       "(9.833, 2.16, 35)"
      ]
     },
     "execution_count": 91,
     "metadata": {},
     "output_type": "execute_result"
    }
   ],
   "source": [
    "drug_sensitivity.max(axis=1).max(), drug_sensitivity.min(axis=1).min(), len(drug_sensitivity)"
   ]
  },
  {
   "cell_type": "code",
   "execution_count": 97,
   "id": "ae8d00cb",
   "metadata": {},
   "outputs": [
    {
     "data": {
      "image/png": "[encoded data removed]",
      "text/plain": [
       "<Figure size 1680x2240 with 35 Axes>"
      ]
     },
     "metadata": {
      "needs_background": "light"
     },
     "output_type": "display_data"
    }
   ],
   "source": [
    "# plot drug sensitivity distributions\n",
    "fig, axes = plt.subplots(7, 5, figsize=(12, 16), dpi=140)\n",
    "\n",
    "for drug_idx in range(31):\n",
    "    ax = axes[drug_idx // 5, drug_idx % 5]\n",
    "    drug_id = f\"Drug{drug_idx + 1}\"\n",
    "    sensitivity = drug_sensitivity[drug_id].dropna()\n",
    "    x = range(len(sensitivity))\n",
    "    y = sorted(sensitivity)\n",
    "    \n",
    "    ax.scatter(x, y, s=4)\n",
    "    ax.set_xlim(0, 35)\n",
    "    ax.set_ylim(2, 10)\n",
    "    \n",
    "    ax.set_title(drug_id)\n",
    "    \n",
    "fig.tight_layout()"
   ]
  },
  {
   "cell_type": "code",
   "execution_count": 62,
   "id": "732b0dc3",
   "metadata": {},
   "outputs": [
    {
     "data": {
      "text/plain": [
       "0     6.223\n",
       "1     6.164\n",
       "2     6.164\n",
       "3     6.164\n",
       "4       NaN\n",
       "5     6.164\n",
       "6     6.164\n",
       "7     6.164\n",
       "8     6.164\n",
       "9     6.164\n",
       "10    6.164\n",
       "11    6.164\n",
       "12    6.164\n",
       "13    6.164\n",
       "14      NaN\n",
       "15    6.164\n",
       "16    6.164\n",
       "17    6.164\n",
       "18    6.164\n",
       "19    6.164\n",
       "20    6.164\n",
       "21    6.164\n",
       "22    6.164\n",
       "23    6.164\n",
       "24    6.164\n",
       "25    6.164\n",
       "26    6.164\n",
       "27    6.164\n",
       "28    6.164\n",
       "29    6.164\n",
       "30    6.164\n",
       "31    6.164\n",
       "32    6.164\n",
       "33    6.164\n",
       "34    6.164\n",
       "Name: Drug5, dtype: float64"
      ]
     },
     "execution_count": 62,
     "metadata": {},
     "output_type": "execute_result"
    }
   ],
   "source": [
    "drug_sensitivity[\"Drug5\"]"
   ]
  },
  {
   "cell_type": "markdown",
   "id": "c97c4058",
   "metadata": {
    "deletable": false,
    "editable": false,
    "run_control": {
     "frozen": true
    }
   },
   "source": [
    "## gene expression data"
   ]
  },
  {
   "cell_type": "code",
   "execution_count": 5,
   "id": "a64c607a",
   "metadata": {},
   "outputs": [],
   "source": [
    "gene_expr = pd.read_csv(f\"{datadir}/{gene_expr_fname}\", sep=\"\\t\")"
   ]
  },
  {
   "cell_type": "code",
   "execution_count": 22,
   "id": "3aaaa388",
   "metadata": {},
   "outputs": [],
   "source": [
    "gene_expr_cell_lines = set(gene_expr.columns) - {\"HGNC_ID\"}"
   ]
  },
  {
   "cell_type": "code",
   "execution_count": 28,
   "id": "142b42c9",
   "metadata": {},
   "outputs": [
    {
     "name": "stdout",
     "output_type": "stream",
     "text": [
      "21NT\n",
      "MX1\n",
      "21MT1\n",
      "184A1\n"
     ]
    }
   ],
   "source": [
    "for cell_line in test_cell_lines:\n",
    "    if cell_line not in gene_expr_cell_lines:\n",
    "        print(cell_line)"
   ]
  },
  {
   "cell_type": "code",
   "execution_count": 52,
   "id": "b90cdfb5",
   "metadata": {},
   "outputs": [
    {
     "data": {
      "text/plain": [
       "(18632, 46)"
      ]
     },
     "execution_count": 52,
     "metadata": {},
     "output_type": "execute_result"
    }
   ],
   "source": [
    "len(gene_expr), len(gene_expr_cell_lines)\n",
    "# 18632 genes, 46 cell lines"
   ]
  },
  {
   "cell_type": "code",
   "execution_count": 53,
   "id": "b0288cda",
   "metadata": {},
   "outputs": [
    {
     "data": {
      "text/html": [
       "<div>\n",
       "<style scoped>\n",
       "    .dataframe tbody tr th:only-of-type {\n",
       "        vertical-align: middle;\n",
       "    }\n",
       "\n",
       "    .dataframe tbody tr th {\n",
       "        vertical-align: top;\n",
       "    }\n",
       "\n",
       "    .dataframe thead th {\n",
       "        text-align: right;\n",
       "    }\n",
       "</style>\n",
       "<table border=\"1\" class=\"dataframe\">\n",
       "  <thead>\n",
       "    <tr style=\"text-align: right;\">\n",
       "      <th></th>\n",
       "      <th>HGNC_ID</th>\n",
       "      <th>184B5</th>\n",
       "      <th>600MPE</th>\n",
       "      <th>AU565</th>\n",
       "      <th>BT20</th>\n",
       "      <th>BT474</th>\n",
       "      <th>BT483</th>\n",
       "      <th>CAMA1</th>\n",
       "      <th>HCC38</th>\n",
       "      <th>HCC70</th>\n",
       "      <th>...</th>\n",
       "      <th>SUM185PE</th>\n",
       "      <th>SUM225CWN</th>\n",
       "      <th>SUM1315MO2</th>\n",
       "      <th>T47D</th>\n",
       "      <th>UACC812</th>\n",
       "      <th>ZR751</th>\n",
       "      <th>ZR7530</th>\n",
       "      <th>ZR75B</th>\n",
       "      <th>BT549</th>\n",
       "      <th>MCF10A</th>\n",
       "    </tr>\n",
       "  </thead>\n",
       "  <tbody>\n",
       "    <tr>\n",
       "      <th>0</th>\n",
       "      <td>C9orf152</td>\n",
       "      <td>3.613030</td>\n",
       "      <td>8.463736</td>\n",
       "      <td>7.935823</td>\n",
       "      <td>3.098928</td>\n",
       "      <td>9.010836</td>\n",
       "      <td>6.238427</td>\n",
       "      <td>7.531960</td>\n",
       "      <td>2.941374</td>\n",
       "      <td>5.048602</td>\n",
       "      <td>...</td>\n",
       "      <td>8.611076</td>\n",
       "      <td>7.479183</td>\n",
       "      <td>2.743167</td>\n",
       "      <td>7.885278</td>\n",
       "      <td>6.478226</td>\n",
       "      <td>9.306710</td>\n",
       "      <td>7.672073</td>\n",
       "      <td>9.016769</td>\n",
       "      <td>3.312954</td>\n",
       "      <td>3.257463</td>\n",
       "    </tr>\n",
       "    <tr>\n",
       "      <th>1</th>\n",
       "      <td>ELMO2</td>\n",
       "      <td>7.205940</td>\n",
       "      <td>7.959597</td>\n",
       "      <td>8.073369</td>\n",
       "      <td>8.164778</td>\n",
       "      <td>8.120015</td>\n",
       "      <td>8.950747</td>\n",
       "      <td>7.747369</td>\n",
       "      <td>8.551765</td>\n",
       "      <td>7.708224</td>\n",
       "      <td>...</td>\n",
       "      <td>9.391230</td>\n",
       "      <td>8.086427</td>\n",
       "      <td>7.653533</td>\n",
       "      <td>8.027774</td>\n",
       "      <td>8.112902</td>\n",
       "      <td>8.274168</td>\n",
       "      <td>8.654507</td>\n",
       "      <td>7.907656</td>\n",
       "      <td>8.463506</td>\n",
       "      <td>7.348165</td>\n",
       "    </tr>\n",
       "    <tr>\n",
       "      <th>2</th>\n",
       "      <td>RPS11</td>\n",
       "      <td>10.476276</td>\n",
       "      <td>9.939852</td>\n",
       "      <td>9.817430</td>\n",
       "      <td>10.038500</td>\n",
       "      <td>9.533423</td>\n",
       "      <td>9.471906</td>\n",
       "      <td>9.889735</td>\n",
       "      <td>9.852145</td>\n",
       "      <td>9.496845</td>\n",
       "      <td>...</td>\n",
       "      <td>9.025056</td>\n",
       "      <td>9.624821</td>\n",
       "      <td>9.447288</td>\n",
       "      <td>8.779309</td>\n",
       "      <td>9.069048</td>\n",
       "      <td>9.333409</td>\n",
       "      <td>9.360958</td>\n",
       "      <td>10.064785</td>\n",
       "      <td>9.693886</td>\n",
       "      <td>9.858231</td>\n",
       "    </tr>\n",
       "    <tr>\n",
       "      <th>3</th>\n",
       "      <td>CREB3L1</td>\n",
       "      <td>5.565989</td>\n",
       "      <td>9.835957</td>\n",
       "      <td>5.696639</td>\n",
       "      <td>4.972852</td>\n",
       "      <td>8.155372</td>\n",
       "      <td>6.437281</td>\n",
       "      <td>6.572890</td>\n",
       "      <td>7.007242</td>\n",
       "      <td>5.386509</td>\n",
       "      <td>...</td>\n",
       "      <td>9.897796</td>\n",
       "      <td>8.059426</td>\n",
       "      <td>7.569412</td>\n",
       "      <td>5.437983</td>\n",
       "      <td>8.168436</td>\n",
       "      <td>7.360383</td>\n",
       "      <td>8.892531</td>\n",
       "      <td>7.051816</td>\n",
       "      <td>7.973954</td>\n",
       "      <td>5.256000</td>\n",
       "    </tr>\n",
       "    <tr>\n",
       "      <th>4</th>\n",
       "      <td>PNMA1</td>\n",
       "      <td>7.664038</td>\n",
       "      <td>7.645439</td>\n",
       "      <td>7.761882</td>\n",
       "      <td>7.766212</td>\n",
       "      <td>8.393242</td>\n",
       "      <td>8.081416</td>\n",
       "      <td>7.643172</td>\n",
       "      <td>7.922658</td>\n",
       "      <td>7.409595</td>\n",
       "      <td>...</td>\n",
       "      <td>7.985742</td>\n",
       "      <td>7.395009</td>\n",
       "      <td>8.757817</td>\n",
       "      <td>8.315187</td>\n",
       "      <td>8.430294</td>\n",
       "      <td>7.001755</td>\n",
       "      <td>7.582231</td>\n",
       "      <td>7.348228</td>\n",
       "      <td>8.558804</td>\n",
       "      <td>7.668157</td>\n",
       "    </tr>\n",
       "    <tr>\n",
       "      <th>...</th>\n",
       "      <td>...</td>\n",
       "      <td>...</td>\n",
       "      <td>...</td>\n",
       "      <td>...</td>\n",
       "      <td>...</td>\n",
       "      <td>...</td>\n",
       "      <td>...</td>\n",
       "      <td>...</td>\n",
       "      <td>...</td>\n",
       "      <td>...</td>\n",
       "      <td>...</td>\n",
       "      <td>...</td>\n",
       "      <td>...</td>\n",
       "      <td>...</td>\n",
       "      <td>...</td>\n",
       "      <td>...</td>\n",
       "      <td>...</td>\n",
       "      <td>...</td>\n",
       "      <td>...</td>\n",
       "      <td>...</td>\n",
       "      <td>...</td>\n",
       "    </tr>\n",
       "    <tr>\n",
       "      <th>18627</th>\n",
       "      <td>PIK3IP1</td>\n",
       "      <td>5.094983</td>\n",
       "      <td>5.838762</td>\n",
       "      <td>5.259975</td>\n",
       "      <td>4.581164</td>\n",
       "      <td>6.680903</td>\n",
       "      <td>5.298018</td>\n",
       "      <td>6.048598</td>\n",
       "      <td>4.799027</td>\n",
       "      <td>6.513449</td>\n",
       "      <td>...</td>\n",
       "      <td>5.634955</td>\n",
       "      <td>6.772698</td>\n",
       "      <td>4.818312</td>\n",
       "      <td>5.567047</td>\n",
       "      <td>6.071105</td>\n",
       "      <td>7.162297</td>\n",
       "      <td>7.118008</td>\n",
       "      <td>6.037431</td>\n",
       "      <td>5.063114</td>\n",
       "      <td>4.605722</td>\n",
       "    </tr>\n",
       "    <tr>\n",
       "      <th>18628</th>\n",
       "      <td>SNRPD2</td>\n",
       "      <td>8.347877</td>\n",
       "      <td>8.134302</td>\n",
       "      <td>8.465382</td>\n",
       "      <td>8.861059</td>\n",
       "      <td>8.264550</td>\n",
       "      <td>7.961019</td>\n",
       "      <td>8.638154</td>\n",
       "      <td>9.104285</td>\n",
       "      <td>8.273480</td>\n",
       "      <td>...</td>\n",
       "      <td>7.709004</td>\n",
       "      <td>8.019798</td>\n",
       "      <td>8.530214</td>\n",
       "      <td>8.133355</td>\n",
       "      <td>8.620167</td>\n",
       "      <td>8.298169</td>\n",
       "      <td>7.933501</td>\n",
       "      <td>8.802854</td>\n",
       "      <td>8.630818</td>\n",
       "      <td>8.539019</td>\n",
       "    </tr>\n",
       "    <tr>\n",
       "      <th>18629</th>\n",
       "      <td>SLC39A6</td>\n",
       "      <td>9.560331</td>\n",
       "      <td>9.230374</td>\n",
       "      <td>8.702158</td>\n",
       "      <td>6.829949</td>\n",
       "      <td>9.895278</td>\n",
       "      <td>11.069736</td>\n",
       "      <td>9.445905</td>\n",
       "      <td>9.809352</td>\n",
       "      <td>7.975159</td>\n",
       "      <td>...</td>\n",
       "      <td>8.164757</td>\n",
       "      <td>7.942354</td>\n",
       "      <td>7.667108</td>\n",
       "      <td>8.665270</td>\n",
       "      <td>9.854913</td>\n",
       "      <td>9.958577</td>\n",
       "      <td>8.303573</td>\n",
       "      <td>12.605733</td>\n",
       "      <td>9.136941</td>\n",
       "      <td>8.826168</td>\n",
       "    </tr>\n",
       "    <tr>\n",
       "      <th>18630</th>\n",
       "      <td>CTSC</td>\n",
       "      <td>8.014001</td>\n",
       "      <td>5.489988</td>\n",
       "      <td>6.926434</td>\n",
       "      <td>6.706568</td>\n",
       "      <td>4.959705</td>\n",
       "      <td>5.299012</td>\n",
       "      <td>5.410741</td>\n",
       "      <td>8.671523</td>\n",
       "      <td>7.534491</td>\n",
       "      <td>...</td>\n",
       "      <td>4.963450</td>\n",
       "      <td>6.609082</td>\n",
       "      <td>5.914920</td>\n",
       "      <td>5.701576</td>\n",
       "      <td>5.371800</td>\n",
       "      <td>5.915521</td>\n",
       "      <td>4.797568</td>\n",
       "      <td>5.569548</td>\n",
       "      <td>7.787072</td>\n",
       "      <td>8.315306</td>\n",
       "    </tr>\n",
       "    <tr>\n",
       "      <th>18631</th>\n",
       "      <td>AQP7</td>\n",
       "      <td>5.611784</td>\n",
       "      <td>5.135123</td>\n",
       "      <td>5.309263</td>\n",
       "      <td>5.232824</td>\n",
       "      <td>5.212809</td>\n",
       "      <td>5.266001</td>\n",
       "      <td>5.104259</td>\n",
       "      <td>5.143903</td>\n",
       "      <td>5.408671</td>\n",
       "      <td>...</td>\n",
       "      <td>5.571857</td>\n",
       "      <td>5.612737</td>\n",
       "      <td>5.367529</td>\n",
       "      <td>5.482113</td>\n",
       "      <td>5.767104</td>\n",
       "      <td>5.816414</td>\n",
       "      <td>5.723813</td>\n",
       "      <td>5.447537</td>\n",
       "      <td>5.146279</td>\n",
       "      <td>5.494145</td>\n",
       "    </tr>\n",
       "  </tbody>\n",
       "</table>\n",
       "<p>18632 rows × 47 columns</p>\n",
       "</div>"
      ],
      "text/plain": [
       "        HGNC_ID      184B5    600MPE     AU565       BT20     BT474  \\\n",
       "0      C9orf152   3.613030  8.463736  7.935823   3.098928  9.010836   \n",
       "1         ELMO2   7.205940  7.959597  8.073369   8.164778  8.120015   \n",
       "2         RPS11  10.476276  9.939852  9.817430  10.038500  9.533423   \n",
       "3       CREB3L1   5.565989  9.835957  5.696639   4.972852  8.155372   \n",
       "4         PNMA1   7.664038  7.645439  7.761882   7.766212  8.393242   \n",
       "...         ...        ...       ...       ...        ...       ...   \n",
       "18627   PIK3IP1   5.094983  5.838762  5.259975   4.581164  6.680903   \n",
       "18628    SNRPD2   8.347877  8.134302  8.465382   8.861059  8.264550   \n",
       "18629   SLC39A6   9.560331  9.230374  8.702158   6.829949  9.895278   \n",
       "18630      CTSC   8.014001  5.489988  6.926434   6.706568  4.959705   \n",
       "18631      AQP7   5.611784  5.135123  5.309263   5.232824  5.212809   \n",
       "\n",
       "           BT483     CAMA1     HCC38     HCC70  ...  SUM185PE  SUM225CWN  \\\n",
       "0       6.238427  7.531960  2.941374  5.048602  ...  8.611076   7.479183   \n",
       "1       8.950747  7.747369  8.551765  7.708224  ...  9.391230   8.086427   \n",
       "2       9.471906  9.889735  9.852145  9.496845  ...  9.025056   9.624821   \n",
       "3       6.437281  6.572890  7.007242  5.386509  ...  9.897796   8.059426   \n",
       "4       8.081416  7.643172  7.922658  7.409595  ...  7.985742   7.395009   \n",
       "...          ...       ...       ...       ...  ...       ...        ...   \n",
       "18627   5.298018  6.048598  4.799027  6.513449  ...  5.634955   6.772698   \n",
       "18628   7.961019  8.638154  9.104285  8.273480  ...  7.709004   8.019798   \n",
       "18629  11.069736  9.445905  9.809352  7.975159  ...  8.164757   7.942354   \n",
       "18630   5.299012  5.410741  8.671523  7.534491  ...  4.963450   6.609082   \n",
       "18631   5.266001  5.104259  5.143903  5.408671  ...  5.571857   5.612737   \n",
       "\n",
       "       SUM1315MO2      T47D   UACC812     ZR751    ZR7530      ZR75B  \\\n",
       "0        2.743167  7.885278  6.478226  9.306710  7.672073   9.016769   \n",
       "1        7.653533  8.027774  8.112902  8.274168  8.654507   7.907656   \n",
       "2        9.447288  8.779309  9.069048  9.333409  9.360958  10.064785   \n",
       "3        7.569412  5.437983  8.168436  7.360383  8.892531   7.051816   \n",
       "4        8.757817  8.315187  8.430294  7.001755  7.582231   7.348228   \n",
       "...           ...       ...       ...       ...       ...        ...   \n",
       "18627    4.818312  5.567047  6.071105  7.162297  7.118008   6.037431   \n",
       "18628    8.530214  8.133355  8.620167  8.298169  7.933501   8.802854   \n",
       "18629    7.667108  8.665270  9.854913  9.958577  8.303573  12.605733   \n",
       "18630    5.914920  5.701576  5.371800  5.915521  4.797568   5.569548   \n",
       "18631    5.367529  5.482113  5.767104  5.816414  5.723813   5.447537   \n",
       "\n",
       "          BT549    MCF10A  \n",
       "0      3.312954  3.257463  \n",
       "1      8.463506  7.348165  \n",
       "2      9.693886  9.858231  \n",
       "3      7.973954  5.256000  \n",
       "4      8.558804  7.668157  \n",
       "...         ...       ...  \n",
       "18627  5.063114  4.605722  \n",
       "18628  8.630818  8.539019  \n",
       "18629  9.136941  8.826168  \n",
       "18630  7.787072  8.315306  \n",
       "18631  5.146279  5.494145  \n",
       "\n",
       "[18632 rows x 47 columns]"
      ]
     },
     "execution_count": 53,
     "metadata": {},
     "output_type": "execute_result"
    }
   ],
   "source": [
    "gene_expr"
   ]
  },
  {
   "cell_type": "markdown",
   "id": "8102554b",
   "metadata": {
    "deletable": false,
    "editable": false,
    "run_control": {
     "frozen": true
    }
   },
   "source": [
    "## rnaseq data"
   ]
  },
  {
   "cell_type": "code",
   "execution_count": 32,
   "id": "2f7b0247",
   "metadata": {},
   "outputs": [],
   "source": [
    "rnaseq = pd.read_csv(f\"{datadir}/{rnaseq_fname}\", sep=\"\\t\")"
   ]
  },
  {
   "cell_type": "code",
   "execution_count": 36,
   "id": "a856ebbb",
   "metadata": {},
   "outputs": [
    {
     "data": {
      "text/plain": [
       "Index(['HGNC_ID', 'Ensembl_ID', '184A1', '184B5', '21MT1', '21NT', '600MPE',\n",
       "       'AU565', 'BT474', 'BT483', 'BT549', 'CAMA1', 'HCC1143', 'HCC1395',\n",
       "       'HCC1419', 'HCC1428', 'HCC1569', 'HCC1806', 'HCC1937', 'HCC1954',\n",
       "       'HCC202', 'HCC3153', 'HCC38', 'HCC70', 'HS578T', 'LY2', 'MCF10A',\n",
       "       'MCF10F', 'MCF12A', 'MCF7', 'MDAMB175VII', 'MDAMB231', 'MDAMB361',\n",
       "       'MDAMB453', 'MX1', 'SKBR3', 'SUM149PT', 'SUM159PT', 'SUM225CWN',\n",
       "       'SUM229PE', 'SUM52PE', 'T47D', 'UACC812', 'ZR751', 'ZR7530', 'ZR75B'],\n",
       "      dtype='object')"
      ]
     },
     "execution_count": 36,
     "metadata": {},
     "output_type": "execute_result"
    }
   ],
   "source": [
    "rnaseq.columns"
   ]
  },
  {
   "cell_type": "code",
   "execution_count": 39,
   "id": "6200e52b",
   "metadata": {},
   "outputs": [
    {
     "name": "stdout",
     "output_type": "stream",
     "text": [
      "44\n"
     ]
    }
   ],
   "source": [
    "rnaseq_cell_lines = set(rnaseq.columns) - {\"HGNC_ID\", \"Ensembl_ID\"}\n",
    "print(len(rnaseq_cell_lines))"
   ]
  },
  {
   "cell_type": "code",
   "execution_count": 40,
   "id": "8c59a349",
   "metadata": {},
   "outputs": [
    {
     "name": "stdout",
     "output_type": "stream",
     "text": [
      "SUM1315MO2\n",
      "HCC2185\n",
      "SUM185PE\n"
     ]
    }
   ],
   "source": [
    "for cell_line in test_cell_lines:\n",
    "    if cell_line not in rnaseq_cell_lines:\n",
    "        print(cell_line)"
   ]
  },
  {
   "cell_type": "code",
   "execution_count": 47,
   "id": "1f74e703",
   "metadata": {},
   "outputs": [
    {
     "ename": "NameError",
     "evalue": "name 'training_cell_lines' is not defined",
     "output_type": "error",
     "traceback": [
      "\u001b[0;31m---------------------------------------------------------------------------\u001b[0m",
      "\u001b[0;31mNameError\u001b[0m                                 Traceback (most recent call last)",
      "\u001b[0;32m/var/folders/7w/41msfz292s3ff286j1sghb500000gn/T/ipykernel_92981/4283525822.py\u001b[0m in \u001b[0;36m<module>\u001b[0;34m\u001b[0m\n\u001b[0;32m----> 1\u001b[0;31m \u001b[0mset\u001b[0m\u001b[0;34m(\u001b[0m\u001b[0mtraining_cell_lines\u001b[0m\u001b[0;34m)\u001b[0m \u001b[0;34m-\u001b[0m \u001b[0;34m(\u001b[0m\u001b[0mrnaseq_cell_lines\u001b[0m \u001b[0;34m|\u001b[0m \u001b[0mgene_expr_cell_lines\u001b[0m\u001b[0;34m)\u001b[0m\u001b[0;34m\u001b[0m\u001b[0;34m\u001b[0m\u001b[0m\n\u001b[0m",
      "\u001b[0;31mNameError\u001b[0m: name 'training_cell_lines' is not defined"
     ]
    }
   ],
   "source": [
    "set(training_cell_lines) - (rnaseq_cell_lines | gene_expr_cell_lines)"
   ]
  },
  {
   "cell_type": "code",
   "execution_count": null,
   "id": "4547e06b",
   "metadata": {},
   "outputs": [],
   "source": []
  }
 ],
 "metadata": {
  "kernelspec": {
   "display_name": "Python 3 (ipykernel)",
   "language": "python",
   "name": "python3"
  },
  "language_info": {
   "codemirror_mode": {
    "name": "ipython",
    "version": 3
   },
   "file_extension": ".py",
   "mimetype": "text/x-python",
   "name": "python",
   "nbconvert_exporter": "python",
   "pygments_lexer": "ipython3",
   "version": "3.9.15"
  }
 },
 "nbformat": 4,
 "nbformat_minor": 5
}
